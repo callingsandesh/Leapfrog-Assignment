{
 "cells": [
  {
   "cell_type": "code",
   "execution_count": null,
   "metadata": {},
   "outputs": [],
   "source": []
  },
  {
   "cell_type": "code",
   "execution_count": 12,
   "metadata": {},
   "outputs": [
    {
     "name": "stdout",
     "output_type": "stream",
     "text": [
      "Marks not valid\n"
     ]
    }
   ],
   "source": [
    "def checkMarks(setMarksFunction):\n",
    "    def checkedMarks(a):\n",
    "        if 0<a<100: setMarksFunction(a)\n",
    "        else: print(\"Marks not valid\")\n",
    "    return checkedMarks\n",
    "\n",
    "@checkMarks\n",
    "def setMarks(a):\n",
    "    print(\"Marks \"+str(a)+\"is set\");\n",
    "    \n",
    "\n",
    "setMarks(507)"
   ]
  },
  {
   "cell_type": "code",
   "execution_count": 25,
   "metadata": {},
   "outputs": [
    {
     "name": "stdout",
     "output_type": "stream",
     "text": [
      "Ram Man 5\n",
      "Ram Poudel 5\n",
      "Ram Poudel 6\n",
      "Ram Poudel\n",
      "Hari Joshi 6\n"
     ]
    }
   ],
   "source": [
    "class Person:\n",
    "    #attributes/properties\n",
    "    def __init__(self, fname=\"Default\", lname=\"Man\"):\n",
    "        self.fname = fname;\n",
    "        self.lname = lname;\n",
    "        self.__age=5\n",
    "    \n",
    "    def showme(obj):\n",
    "        print(obj.fname+\" \"+obj.lname+\" \"+str(obj.__age));\n",
    "    \n",
    "    def setage(self, age):\n",
    "        self.__age=age\n",
    "        \n",
    "    @property\n",
    "    def fullname(self):\n",
    "        return self.fname+\" \"+self.lname\n",
    "    \n",
    "    @fullname.setter\n",
    "    def fullname(self, full):\n",
    "        self.fname, self.lname = full.split()\n",
    "        \n",
    "    \n",
    "\n",
    "ram = Person(\"Ram\");\n",
    "ram.showme()\n",
    "ram.lname=\"Poudel\"\n",
    "ram.showme()\n",
    "ram.setage(6)\n",
    "ram.showme()\n",
    "print(ram.fullname)\n",
    "ram.fullname=\"Hari Joshi\"\n",
    "ram.showme()"
   ]
  },
  {
   "cell_type": "code",
   "execution_count": 66,
   "metadata": {},
   "outputs": [
    {
     "data": {
      "text/plain": [
       "False"
      ]
     },
     "execution_count": 66,
     "metadata": {},
     "output_type": "execute_result"
    }
   ],
   "source": [
    "\n",
    "class Dog:\n",
    "    species = \"Canis familiaris\"\n",
    "    r=[1,5,6]\n",
    "    def __init__(self, name, age):\n",
    "        self.name = name\n",
    "        self.age = age\n",
    "   \n",
    "    \n",
    "    def __len__(self):\n",
    "        return 7\n",
    "\n",
    "    def __str__(dsf):\n",
    "        return f\"{dsf.name} is {dsf.age} years old\"\n",
    "    \n",
    "    def getDetails(dsf):\n",
    "        return f\"{dsf.name} is {dsf.age} years old\"\n",
    "    \n",
    "    def speak(self):\n",
    "        return f\"{self.name} says {self.sound}\"\n",
    "    \n",
    "    def color(self):\n",
    "        print(\"color \", self.eye)\n",
    "    \n",
    "    @staticmethod\n",
    "    def isVaccinabeDog(age):\n",
    "        return age>10\n",
    "    \n",
    "    @classmethod \n",
    "    def usingString(cls, string):\n",
    "        name,age = string.split(',')\n",
    "        age=int(age)\n",
    "        return cls(name,age)\n",
    "    \n",
    "    @property\n",
    "    def identity(self):\n",
    "        return self.name+','+str(self.age)\n",
    "    \n",
    "    @identity.setter\n",
    "    def identity(self, idty):\n",
    "        self.name,self.age = idty.split(',')\n",
    "        self.age=int(self.age)\n",
    "        \n",
    "\n",
    "    \n",
    "sanny.isVaccinabeDog(4)"
   ]
  },
  {
   "cell_type": "code",
   "execution_count": 58,
   "metadata": {},
   "outputs": [
    {
     "name": "stdout",
     "output_type": "stream",
     "text": [
      "color  heilio\n"
     ]
    }
   ],
   "source": [
    "sanny = Dog(\"helo\",12)\n",
    "sanny.eye=\"heilio\"\n"
   ]
  },
  {
   "cell_type": "code",
   "execution_count": 67,
   "metadata": {},
   "outputs": [
    {
     "name": "stdout",
     "output_type": "stream",
     "text": [
      "Frodo is 45 years old\n"
     ]
    }
   ],
   "source": [
    "bunny = Dog.usingString(\"Frodo, 45\")\n",
    "print(bunny)"
   ]
  },
  {
   "cell_type": "code",
   "execution_count": 69,
   "metadata": {
    "scrolled": true
   },
   "outputs": [
    {
     "name": "stdout",
     "output_type": "stream",
     "text": [
      "7\n",
      "2.5 2\n"
     ]
    }
   ],
   "source": [
    "print(len(bunny))\n",
    "print(5/2, co//co2)"
   ]
  },
  {
   "cell_type": "code",
   "execution_count": 75,
   "metadata": {},
   "outputs": [
    {
     "name": "stdout",
     "output_type": "stream",
     "text": [
      "5 6\n"
     ]
    }
   ],
   "source": [
    "class A:\n",
    "    def __init__(self, val):\n",
    "        self.val = val;\n",
    "        \n",
    "    def printValue(self):\n",
    "        print(self.val)\n",
    "        \n",
    "class B(A):\n",
    "    def __init__(self, val, myc):\n",
    "        super().__init__(val);\n",
    "        self.myc=myc\n",
    "    \n",
    "    def printValue(self):\n",
    "        print(self.val, self.myc)\n",
    "        \n",
    "        \n",
    "class C(B):\n",
    "    pass\n",
    "        \n",
    "a=C(5,6)\n",
    "a.printValue()\n"
   ]
  },
  {
   "cell_type": "code",
   "execution_count": 76,
   "metadata": {},
   "outputs": [
    {
     "name": "stdout",
     "output_type": "stream",
     "text": [
      "C process()\n",
      "hello V\n",
      "[<class '__main__.D'>, <class '__main__.C'>, <class '__main__.A'>, <class '__main__.B'>, <class '__main__.V'>, <class 'object'>]\n"
     ]
    }
   ],
   "source": [
    "class A:\n",
    "    def process(self):\n",
    "        print('A process()')\n",
    "\n",
    "\n",
    "class B:\n",
    "    def process(self):\n",
    "        print('B process()')\n",
    "\n",
    "\n",
    "class C(A, B):\n",
    "    def process(self):\n",
    "        print('C process()')\n",
    "\n",
    "class V(L):\n",
    "    def pnt(self):\n",
    "        print(\"hello V\")\n",
    "    pass \n",
    "class D(C,V):\n",
    "    pass\n",
    "\n",
    "\n",
    "obj = D()\n",
    "obj.process()\n",
    "obj.pnt()\n",
    "\n",
    "print(D.mro())"
   ]
  },
  {
   "cell_type": "code",
   "execution_count": 85,
   "metadata": {},
   "outputs": [
    {
     "name": "stdout",
     "output_type": "stream",
     "text": [
      "6\n"
     ]
    }
   ],
   "source": [
    "class A:\n",
    "    def process(self):\n",
    "        print('A process()')\n",
    "\n",
    "\n",
    "class B(A):\n",
    "    def process(self):\n",
    "        print('B process()')\n",
    "\n",
    "b=B()\n",
    "b.__r=6;\n",
    "print(b.__r)\n",
    "\n"
   ]
  },
  {
   "cell_type": "code",
   "execution_count": 89,
   "metadata": {},
   "outputs": [],
   "source": [
    "class Flowers:\n",
    "    def __init__(self):\n",
    "        self.n=-1\n",
    "        self.flowers = [\"Rose\",\"Daffodil\", \"Marigold\",\"abc\"]\n",
    "    \n",
    "    def __iter__(self):\n",
    "        return self\n",
    "    \n",
    "    def __next__(self):\n",
    "        self.n+=1\n",
    "        if(self.n>=len(self.flowers)): raise StopIteration\n",
    "        else: return self.flowers[self.n]"
   ]
  },
  {
   "cell_type": "code",
   "execution_count": 94,
   "metadata": {},
   "outputs": [
    {
     "name": "stdout",
     "output_type": "stream",
     "text": [
      "Rose\n",
      "dfdDaffodil\n",
      "dfdMarigold\n",
      "dfdabc\n"
     ]
    }
   ],
   "source": [
    "\n",
    "a = Flowers();\n",
    "print(next(a))\n",
    "for i in a:\n",
    "    print(\"dfd\"+i)\n",
    "    "
   ]
  },
  {
   "cell_type": "code",
   "execution_count": 101,
   "metadata": {},
   "outputs": [
    {
     "name": "stdout",
     "output_type": "stream",
     "text": [
      "0\n",
      "1\n",
      "2\n",
      "3\n",
      "4\n",
      "5\n"
     ]
    }
   ],
   "source": [
    "def grange(max):\n",
    "    i=0\n",
    "    while(True):\n",
    "        yield i\n",
    "        i+=1\n",
    "        if(i>=max): return\n",
    "\n",
    "for i in grange(6):\n",
    "    print(i)\n",
    "    "
   ]
  },
  {
   "cell_type": "code",
   "execution_count": 134,
   "metadata": {},
   "outputs": [
    {
     "name": "stdout",
     "output_type": "stream",
     "text": [
      "I couldnt handle this\n",
      "Cleanup task\n"
     ]
    }
   ],
   "source": [
    "n=1\n",
    "class PlayerNotFound(Exception):\n",
    "    pass\n",
    "def fun():\n",
    "    try:\n",
    "    #     n/0\n",
    "    #     raise PlayerNotFound(\"something went wrong\")\n",
    "        raise BaseException\n",
    "    except ZeroDivisionError as err:\n",
    "        print(err)\n",
    "    except PlayerNotFound as e:\n",
    "        print(\"Hola\")\n",
    "    except:\n",
    "        print(\"I couldnt handle this\")\n",
    "        return\n",
    "    else:\n",
    "        print(f'{f} was normally executed. proceed forward')\n",
    "    finally: \n",
    "        print(\"Cleanup task\") \n",
    "\n",
    "fun()\n",
    "...."
   ]
  },
  {
   "cell_type": "code",
   "execution_count": null,
   "metadata": {},
   "outputs": [],
   "source": []
  }
 ],
 "metadata": {
  "kernelspec": {
   "display_name": "Python 3 (ipykernel)",
   "language": "python",
   "name": "python3"
  },
  "language_info": {
   "codemirror_mode": {
    "name": "ipython",
    "version": 3
   },
   "file_extension": ".py",
   "mimetype": "text/x-python",
   "name": "python",
   "nbconvert_exporter": "python",
   "pygments_lexer": "ipython3",
   "version": "3.8.10"
  }
 },
 "nbformat": 4,
 "nbformat_minor": 4
}
