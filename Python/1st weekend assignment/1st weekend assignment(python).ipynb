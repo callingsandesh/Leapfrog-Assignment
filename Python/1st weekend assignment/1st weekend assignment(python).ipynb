{
 "cells": [
  {
   "cell_type": "markdown",
   "id": "370854d3",
   "metadata": {},
   "source": [
    "# Assignment for the Weekend:"
   ]
  },
  {
   "cell_type": "markdown",
   "id": "01e7e14d",
   "metadata": {},
   "source": [
    "## Python Assignment Part 1"
   ]
  },
  {
   "cell_type": "markdown",
   "id": "06415b7a",
   "metadata": {},
   "source": [
    "### 1. Question 1: General questions:"
   ]
  },
  {
   "cell_type": "markdown",
   "id": "56f6681d",
   "metadata": {},
   "source": [
    "#### a. Using Map with lambda function generates a third list with a single map statement that sums the integer elements of the same index of two given lists.\n",
    "\n",
    "\n",
    "lst1=[100, 200, 300, 400, 500]\n",
    "\n",
    "lst2=[1,10,100,1000,10000]\n",
    "\n",
    "Should return with a single statement :  [101, 210, 400, 1400, 10500]\n"
   ]
  },
  {
   "cell_type": "code",
   "execution_count": 1,
   "id": "ea3b6a9f",
   "metadata": {},
   "outputs": [],
   "source": [
    "lst1=[100, 200, 300, 400, 500]\n",
    "lst2=[1,10,100,1000,10000]"
   ]
  },
  {
   "cell_type": "code",
   "execution_count": 2,
   "id": "9076a3bd",
   "metadata": {},
   "outputs": [],
   "source": [
    "result = map(lambda x,y:x+y , lst1,lst2)"
   ]
  },
  {
   "cell_type": "code",
   "execution_count": 3,
   "id": "e08082ba",
   "metadata": {},
   "outputs": [
    {
     "name": "stdout",
     "output_type": "stream",
     "text": [
      "[101, 210, 400, 1400, 10500]\n"
     ]
    }
   ],
   "source": [
    "print(list(result))"
   ]
  },
  {
   "cell_type": "markdown",
   "id": "9a72a385",
   "metadata": {},
   "source": [
    "#### b.Write a function that takes a string and returns the dictionary with each character as key and its count as value.\n",
    "For example: \n",
    "    \n",
    "result  = myfunc (\"aaaaabbbbcccdde\")\n",
    "\n",
    "Should return \n",
    "\n",
    "{ ’a’ : 5, ’b’ : 4, ’c’ : 3, ’d’ : 2, ’e’ : 1 }\n"
   ]
  },
  {
   "cell_type": "code",
   "execution_count": 4,
   "id": "b000e781",
   "metadata": {},
   "outputs": [],
   "source": [
    "def myfunc(a):\n",
    "    dictionary = {}\n",
    "    for item in a:\n",
    "        if item in dictionary:\n",
    "            dictionary[item] +=1\n",
    "        else:\n",
    "            dictionary[item] = 1\n",
    "    return dictionary"
   ]
  },
  {
   "cell_type": "code",
   "execution_count": 5,
   "id": "62586c4f",
   "metadata": {},
   "outputs": [],
   "source": [
    "result  = myfunc (\"aaaaabbbbcccdde\")"
   ]
  },
  {
   "cell_type": "code",
   "execution_count": 6,
   "id": "2bcafa0e",
   "metadata": {},
   "outputs": [
    {
     "data": {
      "text/plain": [
       "{'a': 5, 'b': 4, 'c': 3, 'd': 2, 'e': 1}"
      ]
     },
     "execution_count": 6,
     "metadata": {},
     "output_type": "execute_result"
    }
   ],
   "source": [
    "result"
   ]
  },
  {
   "cell_type": "markdown",
   "id": "7e184148",
   "metadata": {},
   "source": [
    "#### c.The dictionary  given below consists of vehicles and their weights in kilograms. Construct a list of the names of vehicles with weight below 5000 kilograms. In the same list comprehension makes the key names all uppercase. Use just a single comprehension statement to achieve it.\n",
    "\n",
    "dict={\n",
    "\"Sedan\": 1500, \"SUV\": 2000, \"Pickup\": 2500, \"Minivan\": 1600, \"Van\": 2400, \"Semi\": 13600, \"Bicycle\": 7, \"Motorcycle\": 110\n",
    "}\n",
    "\n",
    "Solution should be just a statement with list comprehension like below \n",
    "\n",
    "List = [ use comprehension to achieve the result in single statement ] \n"
   ]
  },
  {
   "cell_type": "code",
   "execution_count": 7,
   "id": "4a1ea5a3",
   "metadata": {},
   "outputs": [],
   "source": [
    "dict={ \"Sedan\": 1500, \"SUV\": 2000, \"Pickup\": 2500, \"Minivan\": 1600, \"Van\": 2400, \"Semi\": 13600, \"Bicycle\": 7, \"Motorcycle\": 110 }"
   ]
  },
  {
   "cell_type": "code",
   "execution_count": 8,
   "id": "888adb5c",
   "metadata": {},
   "outputs": [],
   "source": [
    "List = [keys.upper() for keys,values in dict.items() if values < 5000]"
   ]
  },
  {
   "cell_type": "code",
   "execution_count": 9,
   "id": "2e558be9",
   "metadata": {},
   "outputs": [
    {
     "data": {
      "text/plain": [
       "['SEDAN', 'SUV', 'PICKUP', 'MINIVAN', 'VAN', 'BICYCLE', 'MOTORCYCLE']"
      ]
     },
     "execution_count": 9,
     "metadata": {},
     "output_type": "execute_result"
    }
   ],
   "source": [
    "List"
   ]
  },
  {
   "cell_type": "markdown",
   "id": "ecb7a088",
   "metadata": {},
   "source": [
    "## 2.Question 2 Create a program to create a following form inputs as CLI inputs "
   ]
  },
  {
   "cell_type": "code",
   "execution_count": 10,
   "id": "c53b4130",
   "metadata": {},
   "outputs": [],
   "source": [
    "def inputName():\n",
    "    name =  input(f\"Enter the {key}\")\n",
    "    if validateName(name):\n",
    "        return name\n",
    "    else:\n",
    "        print(\"Invalid name type, plz input again\")\n",
    "        inputName()\n",
    "def validateName(name):\n",
    "    print(type(name))\n",
    "    if type(name)== str:\n",
    "        return True\n",
    "    else:\n",
    "        return False"
   ]
  },
  {
   "cell_type": "code",
   "execution_count": 11,
   "id": "f5e5438a",
   "metadata": {},
   "outputs": [
    {
     "name": "stdout",
     "output_type": "stream",
     "text": [
      "Enter the Namesandesh\n",
      "<class 'str'>\n",
      "Enter the DOB in format 'mm/dd/yyyy'2020/11/333\n",
      "This is the incorrect date string format. It should be mm/dd/yyyy \n",
      "Enter the DOB in format 'mm/dd/yyyy'11/2\n",
      "This is the incorrect date string format. It should be mm/dd/yyyy \n",
      "Enter the DOB in format 'mm/dd/yyyy'11/25/2020\n",
      "Enter the Age sdasd\n",
      "Invalid age\n",
      "Enter the Age 12\n",
      "enter your Hobbies with comma speratedbasketball,football,volleyball\n",
      "Enter 'y' to add another users else other keys to end loopy\n",
      "Enter the Namehari\n",
      "<class 'str'>\n",
      "Enter the DOB in format 'mm/dd/yyyy'12/11/1990\n",
      "Enter the Age 10\n",
      "enter your Hobbies with comma sperateda,b,v,c\n",
      "Enter 'y' to add another users else other keys to end loopy\n",
      "Enter the Names\n",
      "<class 'str'>\n",
      "Enter the DOB in format 'mm/dd/yyyy'11/1\n",
      "This is the incorrect date string format. It should be mm/dd/yyyy \n",
      "Enter the DOB in format 'mm/dd/yyyy'11/1/2020\n",
      "Enter the Age 5\n",
      "enter your Hobbies with comma speratedsb,v,b\n",
      "Enter 'y' to add another users else other keys to end loopn\n"
     ]
    }
   ],
   "source": [
    "from datetime import datetime\n",
    "\n",
    "runprogram=True\n",
    "all_data=[]\n",
    "while True:\n",
    "    keyList = ['Name','DOB','Age','Hobbies']\n",
    "    data={}\n",
    "    for key in keyList:\n",
    "        if key == 'Name':\n",
    "            value=inputName()\n",
    "            data[key]=value\n",
    "                \n",
    "            \n",
    "        if key == 'DOB':\n",
    "            while(True):\n",
    "                value = input(f\"Enter the {key} in format 'mm/dd/yyyy'\")\n",
    "                format = \"%m/%d/%Y\"\n",
    "                try:\n",
    "                    value=datetime.strptime(value,format)\n",
    "                    break\n",
    "                except:\n",
    "                    print(\"This is the incorrect date string format. It should be mm/dd/yyyy \")\n",
    "            data[key]=value\n",
    "            \n",
    "        if key == 'Age':\n",
    "            while(True):\n",
    "                try:\n",
    "                    value=int(input(f\"Enter the {key} \"))\n",
    "                    break\n",
    "                except:\n",
    "                    print(\"Invalid age\")\n",
    "                \n",
    "            data[key]=value\n",
    "        if key == 'Hobbies':\n",
    "            value =input(f\"enter your {key} with comma sperated\")\n",
    "            data[key]=value.split(',')\n",
    "    all_data.append(data)\n",
    "    \n",
    "    \n",
    "    y=input(\"Enter 'y' to add another users else other keys to end loop\")\n",
    "    if y != 'y':\n",
    "        break\n"
   ]
  },
  {
   "cell_type": "code",
   "execution_count": 13,
   "id": "104c2f8c",
   "metadata": {},
   "outputs": [],
   "source": [
    "with open('myfile.txt',\"w\") as obj:\n",
    "    #for item in all_data:\n",
    "    obj.write(str(all_data))"
   ]
  },
  {
   "cell_type": "markdown",
   "id": "16a4c34a",
   "metadata": {},
   "source": [
    "## 3.Question 3:"
   ]
  },
  {
   "cell_type": "code",
   "execution_count": 14,
   "id": "4c2c3761",
   "metadata": {},
   "outputs": [
    {
     "name": "stdout",
     "output_type": "stream",
     "text": [
      "Enter the string to check the parenthesis is balanced or not{[(])}\n",
      "\n",
      "\n",
      "NO\n",
      "enter 'y' to continue else other keys to end the programy\n",
      "y\n",
      "Enter the string to check the parenthesis is balanced or not{[(])}\n",
      "\n",
      "\n",
      "NO\n",
      "enter 'y' to continue else other keys to end the programy\n",
      "y\n",
      "Enter the string to check the parenthesis is balanced or not{}(]{\n",
      "\n",
      "\n",
      "NO\n",
      "enter 'y' to continue else other keys to end the programy\n",
      "y\n",
      "Enter the string to check the parenthesis is balanced or not{}[]()[(())]\n",
      "\n",
      "\n",
      "YES\n",
      "enter 'y' to continue else other keys to end the programn\n",
      "n\n"
     ]
    }
   ],
   "source": [
    "open_list = [\"[\",\"{\",\"(\"]\n",
    "close_list = [\"]\",\"}\",\")\"]\n",
    "  \n",
    "# Function to check parentheses\n",
    "def isBalanced(string):\n",
    "    stack = []\n",
    "    for i in string:\n",
    "        if i in open_list:\n",
    "            stack.append(i)\n",
    "        elif i in close_list:\n",
    "            pos = close_list.index(i)\n",
    "            if ((len(stack) > 0) and\n",
    "                (open_list[pos] == stack[len(stack)-1])):\n",
    "                stack.pop()\n",
    "            else:\n",
    "                return \"NO\"\n",
    "    if len(stack) == 0:\n",
    "        return \"YES\"\n",
    "    else:\n",
    "        return \"NO\"\n",
    "\n",
    "\n",
    "x=True\n",
    "while x:\n",
    "    string = input(\"Enter the string to check the parenthesis is balanced or not\")\n",
    "    print('\\n')\n",
    "    print(isBalanced(string))\n",
    "    x=input(\"enter 'y' to continue else other keys to end the program\")\n",
    "    print(x)\n",
    "    if str(x) == 'y':\n",
    "        x=True\n",
    "    else:\n",
    "        x=False"
   ]
  },
  {
   "cell_type": "markdown",
   "id": "4509542c",
   "metadata": {},
   "source": [
    "## 4.Question 4 Question 4  :A left rotation operation on an integer array shifts each of the array's elements unit to the left. For example,  if 2 left rotations are performed on array [1,2,3,4,5] , then the array would become [3,4,5,1,2]\n",
    "\n",
    "Note that the lowest index item moves to the highest index in a rotation. This is called a circular array.\n",
    "Given an array of integers and a number designating the number of rotations, , perform left rotations on the array. Return the updated array to be printed as a single line of space-separated integers\n",
    "\n",
    "\n",
    "Program Description\n",
    "Write a Program i.e. a python script  with the function named rotateLeft in the\n",
    "rotateLeft has the following parameter(s):\n",
    "array_list  a list  of integers to rotate\n",
    "num_rotate the number of rotations to be made\n",
    "Receive these parameters from the command line as input from the user.\n",
    "Returns\n",
    "the rotated array  and  the number of left rotations.\n",
    "\n"
   ]
  },
  {
   "cell_type": "code",
   "execution_count": 15,
   "id": "3e327859",
   "metadata": {},
   "outputs": [],
   "source": [
    "def rotateLeft(array_list,num_rotate):\n",
    "    new_list=[]\n",
    "    length=len(array_list)\n",
    "    for i in range(length):\n",
    "        \n",
    "        new_list.append(array_list[num_rotate])\n",
    "        if len(new_list)==len(array_list):\n",
    "            return new_list\n",
    "        num_rotate+=1\n",
    "        \n",
    "        if num_rotate == len(array_list):\n",
    "            num_rotate=0"
   ]
  },
  {
   "cell_type": "code",
   "execution_count": 18,
   "id": "e6ae237a",
   "metadata": {},
   "outputs": [
    {
     "name": "stdout",
     "output_type": "stream",
     "text": [
      "Enter number of elements : 5\n",
      "1\n",
      "2\n",
      "3\n",
      "4\n",
      "5\n",
      "Enter the number of rotations to be made4\n"
     ]
    },
    {
     "data": {
      "text/plain": [
       "[5, 1, 2, 3, 4]"
      ]
     },
     "execution_count": 18,
     "metadata": {},
     "output_type": "execute_result"
    }
   ],
   "source": [
    "# creating an empty list\n",
    "array_list = []\n",
    " \n",
    "# number of elements as input\n",
    "n = int(input(\"Enter number of elements : \"))\n",
    " \n",
    "# iterating till the range\n",
    "for i in range(0, n):\n",
    "    ele = int(input())\n",
    " \n",
    "    array_list.append(ele) # adding the element\n",
    "     \n",
    "num_rotate = int(input(\"Enter the number of rotations to be made\"))\n",
    "rotateLeft(array_list,num_rotate)"
   ]
  },
  {
   "cell_type": "markdown",
   "id": "fb15b861",
   "metadata": {},
   "source": [
    "## Python Assignment Part 2\n"
   ]
  },
  {
   "cell_type": "markdown",
   "id": "d4694f45",
   "metadata": {},
   "source": [
    "### 1.Create generator with and without comprehension for getting multiples of given number upto 10.\n",
    "Eg. generator(5) =>> 5, 10, 15 …. 50\n"
   ]
  },
  {
   "cell_type": "markdown",
   "id": "9c659523",
   "metadata": {},
   "source": [
    "#### without comprehension"
   ]
  },
  {
   "cell_type": "code",
   "execution_count": 19,
   "id": "d65b353d",
   "metadata": {},
   "outputs": [
    {
     "name": "stdout",
     "output_type": "stream",
     "text": [
      "5,10,15,20,25,30,35,40,45,50,"
     ]
    }
   ],
   "source": [
    "def generator(max):\n",
    "    i=1\n",
    "    while(True):\n",
    "        yield i*5\n",
    "        i+=1\n",
    "        if(i>10):\n",
    "            return\n",
    "for i in generator(5):\n",
    "    print(i , end=',')\n"
   ]
  },
  {
   "cell_type": "markdown",
   "id": "69410e6a",
   "metadata": {},
   "source": [
    "#### Using generator with list comprehension"
   ]
  },
  {
   "cell_type": "code",
   "execution_count": 20,
   "id": "7e0531fc",
   "metadata": {},
   "outputs": [
    {
     "data": {
      "text/plain": [
       "[5, 10, 15, 20, 25, 30, 35, 40, 45, 50]"
      ]
     },
     "execution_count": 20,
     "metadata": {},
     "output_type": "execute_result"
    }
   ],
   "source": [
    "[i*5 for i in range(1,11)]"
   ]
  },
  {
   "cell_type": "markdown",
   "id": "8c639503",
   "metadata": {},
   "source": [
    "## 2.Create a scenario where following errors are handled:\n",
    "a.Custom Error implemented using class\n",
    "\n",
    "b.Custom Error using Exception or BaseException class using message to handle at least two of the cases.\n",
    "\n",
    "c.Full fledged case for exception handling using try, except, else, finally\n",
    "\n"
   ]
  },
  {
   "cell_type": "markdown",
   "id": "3e868c39",
   "metadata": {},
   "source": [
    "### a."
   ]
  },
  {
   "cell_type": "code",
   "execution_count": 21,
   "id": "b4b6ae1a",
   "metadata": {},
   "outputs": [
    {
     "name": "stdout",
     "output_type": "stream",
     "text": [
      "Enter a number: 7\n",
      "This value is too large, try again!\n",
      "\n",
      "Enter a number: 5\n",
      "Congratulations! You guessed it correctly.\n"
     ]
    }
   ],
   "source": [
    "\n",
    "# Defining a user-definer python exception \n",
    "class Error(Exception):\n",
    "    \"\"\"Base class for other exceptions\"\"\"\n",
    "    pass\n",
    "\n",
    "\n",
    "class ValueTooSmallError(Error):\n",
    "    \"\"\"Raised when the input value is too small\"\"\"\n",
    "    pass\n",
    "\n",
    "\n",
    "class ValueTooLargeError(Error):\n",
    "    \"\"\"Raised when the input value is too large\"\"\"\n",
    "    pass\n",
    "\n",
    "\n",
    "# The number we need to guess\n",
    "num = 5\n",
    "\n",
    "# user guesses a number until they gets it right\n",
    "while True:\n",
    "    try:\n",
    "        i_num = int(input(\"Enter a number: \"))\n",
    "        if i_num < num:\n",
    "            raise ValueTooSmallError\n",
    "        elif i_num > num:\n",
    "            raise ValueTooLargeError\n",
    "        break\n",
    "    except ValueTooSmallError:\n",
    "        print(\"This value is too small, try again!\")\n",
    "        print()\n",
    "    except ValueTooLargeError:\n",
    "        print(\"This value is too large, try again!\")\n",
    "        print()\n",
    "\n",
    "print(\"Congratulations! You guessed it correctly.\")"
   ]
  },
  {
   "cell_type": "markdown",
   "id": "5e700c7a",
   "metadata": {},
   "source": [
    "### b)"
   ]
  },
  {
   "cell_type": "code",
   "execution_count": 22,
   "id": "9e95fb77",
   "metadata": {},
   "outputs": [],
   "source": [
    "class DemoException(Exception):\n",
    "    def __init__(self, message):\n",
    "        super().__init__(message)\n",
    "\n",
    "class ZeroDivExp(Exception):\n",
    "    def __init__(self,message,value):\n",
    "        message = f'{value} is zero, please dont divide a number with zero'\n",
    "        super().__init__(message)\n",
    "        \n",
    "        \n",
    "class NumberFormatException(Exception):\n",
    "    def __init__(self, message, value):\n",
    "        message = f'{value} is not a number'\n",
    "        super().__init__(message)\n",
    "\n",
    "\n",
    "\n",
    "message = \"Exception occured.\"\n",
    "\n",
    "def triggerException_1(num):\n",
    "    if (not num.isdigit()):\n",
    "        raise NumberFormatException(message, num)\n",
    "        pass\n",
    "    elif (num == 0):\n",
    "        raise DemoException(message)\n",
    "    else:\n",
    "        print(num)\n",
    "\n",
    "\n",
    "def triggerException_2(num):\n",
    "    if num == 0 :\n",
    "        raise ZeroDivExp(message , num)\n",
    "    pass"
   ]
  },
  {
   "cell_type": "code",
   "execution_count": 23,
   "id": "4dd7c3b2",
   "metadata": {},
   "outputs": [
    {
     "name": "stdout",
     "output_type": "stream",
     "text": [
      "hello world is not a number.\n"
     ]
    }
   ],
   "source": [
    "num = 'hello world'\n",
    "try:\n",
    "    triggerException_1(num)\n",
    "    print(\"Code executed sucessfully.\")\n",
    "except DemoException:\n",
    "    print(\"Error: Number should not be 0.\")\n",
    "except NumberFormatException:\n",
    "    print(num+\" is not a number.\")"
   ]
  },
  {
   "cell_type": "code",
   "execution_count": 24,
   "id": "8ba1c0f6",
   "metadata": {},
   "outputs": [
    {
     "name": "stdout",
     "output_type": "stream",
     "text": [
      "Error: number 2 should not be 0.\n"
     ]
    }
   ],
   "source": [
    "num1=10\n",
    "num2=0\n",
    "try:\n",
    "    triggerException_2(num2)\n",
    "    print(\"Code executed sucessfully.\")\n",
    "except ZeroDivExp:\n",
    "    print(\"Error: number 2 should not be 0.\")"
   ]
  },
  {
   "cell_type": "markdown",
   "id": "e55e5476",
   "metadata": {},
   "source": [
    "### c)"
   ]
  },
  {
   "cell_type": "code",
   "execution_count": 25,
   "id": "80791517",
   "metadata": {},
   "outputs": [
    {
     "name": "stdout",
     "output_type": "stream",
     "text": [
      "division by zero error\n",
      "Thank you\n",
      "\n",
      "Division ran sucessfully, ANS:0.2\n",
      "Thank you\n"
     ]
    }
   ],
   "source": [
    "\n",
    "def division(a,b):\n",
    "    try:\n",
    "        res = a/b\n",
    "    except ZeroDivisionError as e:\n",
    "        print(str(e)+\" error\")\n",
    "    else:\n",
    "        print(f\"Division ran sucessfully, ANS:{res}\")\n",
    "    finally:\n",
    "        print('Thank you')\n",
    "\n",
    "division(2,0)\n",
    "print('')\n",
    "division(2,10)"
   ]
  },
  {
   "cell_type": "markdown",
   "id": "99a73e62",
   "metadata": {},
   "source": [
    "## 3. Create at least 4 classes having semantic meaning (having relation to each other) so that multiple inheritance can be achieved and incorporating the following things in some of them:\n",
    "a)@classmethod\n",
    "\n",
    "b)@staticmethod\n",
    "\n",
    "c)@property and setter for it\n",
    "\n",
    "d)Class_variable"
   ]
  },
  {
   "cell_type": "code",
   "execution_count": 26,
   "id": "1d731954",
   "metadata": {},
   "outputs": [],
   "source": [
    "from datetime import datetime"
   ]
  },
  {
   "cell_type": "code",
   "execution_count": 27,
   "id": "a95ee804",
   "metadata": {},
   "outputs": [],
   "source": [
    "class Machine:\n",
    "    '''Includes all kind of Machine'''\n",
    "    def __init__(self,types):\n",
    "        self.types=types\n",
    "\n",
    "class Vehicles(Machine):\n",
    "    '''Includes only Vehicles Machine'''\n",
    "    def __init__(self,types,cc,engine,manufacture_date):\n",
    "        self.types=types\n",
    "        self.cc=cc\n",
    "        self.engine=engine\n",
    "        self.manufacture_date=manufacture_date\n",
    "    \n",
    "    @property\n",
    "    def description(self):\n",
    "        return \"It is of type \"+ str(self.types) +\".It has an \"+str(self.engine)+\"engine of\"+str(self.cc)+\"cc.\"\n",
    "    \n",
    "    @description.setter\n",
    "    def description(self, description):\n",
    "        self.types,self.cc,self.engine = description.split(',')\n",
    "    \n",
    "    @staticmethod\n",
    "    def isExpensive(price):\n",
    "        if price>10000000:\n",
    "            return True\n",
    "        else:\n",
    "            return False\n",
    "    \n",
    "    @classmethod \n",
    "    def fromAge(self, types,cc,engine,age):\n",
    "        return self(types,cc,engine,int(datetime.now().year)-int(age))\n",
    "    \n",
    "class Car(Vehicles):\n",
    "    '''Includes only Car'''\n",
    "    wheels = 4\n",
    "    def __init__(self,airbags,types,cc,engine,manufacture_date):\n",
    "        super().__init__(types,cc,engine,manufacture_date)\n",
    "        self.airbags =airbags\n",
    "    \n",
    "    @property\n",
    "    def description(self):\n",
    "        return \"It is of type \"+ str(self.types) +\".It has an \"+str(self.engine)+\"engine of\"+str(self.cc)+\"cc.The number of airbags are \"+str(self.airbags)\n",
    "          \n",
    "    \n",
    "class MoterBike(Vehicles):\n",
    "    '''Includes only Bike'''\n",
    "    wheels = 2\n",
    "    def __init__(self , rear_brake,types,cc,engine,manufacture_date):\n",
    "        super().__init__(types,cc,engine,manufacture_date)\n",
    "        self.rear_brake = rear_brake\n",
    "    \n",
    "    @property\n",
    "    def description(self):\n",
    "        return \"It is of type \"+ str(self.types) +\".It has an \"+str(self.engine)+\"engine of\"+str(self.cc)+\"cc.The rear-brake type is  \"+str(self.rear_brake)"
   ]
  },
  {
   "cell_type": "code",
   "execution_count": 28,
   "id": "c24189c0",
   "metadata": {},
   "outputs": [
    {
     "data": {
      "text/plain": [
       "<__main__.Machine at 0x7f47a688cd00>"
      ]
     },
     "execution_count": 28,
     "metadata": {},
     "output_type": "execute_result"
    }
   ],
   "source": [
    "Machine('vehicle')"
   ]
  },
  {
   "cell_type": "code",
   "execution_count": null,
   "id": "2706ffc0",
   "metadata": {},
   "outputs": [],
   "source": []
  },
  {
   "cell_type": "code",
   "execution_count": 29,
   "id": "c4f62a34",
   "metadata": {},
   "outputs": [],
   "source": [
    "m = MoterBike('Disk','sports',5000,'v10',2018)"
   ]
  },
  {
   "cell_type": "markdown",
   "id": "cd97fe73",
   "metadata": {},
   "source": [
    "Using @staticmethod (below)"
   ]
  },
  {
   "cell_type": "code",
   "execution_count": 30,
   "id": "57105830",
   "metadata": {},
   "outputs": [
    {
     "data": {
      "text/plain": [
       "False"
      ]
     },
     "execution_count": 30,
     "metadata": {},
     "output_type": "execute_result"
    }
   ],
   "source": [
    "m.isExpensive(10000)"
   ]
  },
  {
   "cell_type": "markdown",
   "id": "b0018bc7",
   "metadata": {},
   "source": [
    "Using class variables(below)"
   ]
  },
  {
   "cell_type": "code",
   "execution_count": 31,
   "id": "6b50628b",
   "metadata": {},
   "outputs": [
    {
     "data": {
      "text/plain": [
       "2"
      ]
     },
     "execution_count": 31,
     "metadata": {},
     "output_type": "execute_result"
    }
   ],
   "source": [
    "m.wheels"
   ]
  },
  {
   "cell_type": "code",
   "execution_count": 32,
   "id": "837bb0fb",
   "metadata": {},
   "outputs": [
    {
     "data": {
      "text/plain": [
       "2"
      ]
     },
     "execution_count": 32,
     "metadata": {},
     "output_type": "execute_result"
    }
   ],
   "source": [
    "MoterBike.wheels"
   ]
  },
  {
   "cell_type": "markdown",
   "id": "2521bd22",
   "metadata": {},
   "source": [
    "Using @classmethod as factory (below)"
   ]
  },
  {
   "cell_type": "code",
   "execution_count": 33,
   "id": "7e48110d",
   "metadata": {},
   "outputs": [],
   "source": [
    "v=Vehicles.fromAge('sports',1500 , 'v8',15)"
   ]
  },
  {
   "cell_type": "code",
   "execution_count": 34,
   "id": "cf4477b4",
   "metadata": {},
   "outputs": [
    {
     "data": {
      "text/plain": [
       "2006"
      ]
     },
     "execution_count": 34,
     "metadata": {},
     "output_type": "execute_result"
    }
   ],
   "source": [
    "v.manufacture_date"
   ]
  },
  {
   "cell_type": "markdown",
   "id": "a9e14ea5",
   "metadata": {},
   "source": [
    "Using @property (below )"
   ]
  },
  {
   "cell_type": "code",
   "execution_count": 35,
   "id": "5d088673",
   "metadata": {},
   "outputs": [
    {
     "data": {
      "text/plain": [
       "'It is of type sports.It has an v10engine of5000cc.The rear-brake type is  Disk'"
      ]
     },
     "execution_count": 35,
     "metadata": {},
     "output_type": "execute_result"
    }
   ],
   "source": [
    "m.description"
   ]
  },
  {
   "cell_type": "markdown",
   "id": "fa1b25ea",
   "metadata": {},
   "source": [
    "## 4.Create a class for complex number implementing all the arithmetic operations and relational operations related dunder methods. \n",
    "\n",
    "Eg.__add__ , __iadd__ , __mult__ ,  __eq__ , __lt__"
   ]
  },
  {
   "cell_type": "code",
   "execution_count": 36,
   "id": "b8115e1c",
   "metadata": {},
   "outputs": [],
   "source": [
    "\n",
    "class Complex(object):\n",
    "    def __init__(self, real , imag):\n",
    "        self.real = real\n",
    "        self.imag = imag\n",
    "        \n",
    "    def __str__(self):\n",
    "        '''Returns the complex number as string '''\n",
    "        #print('hello')\n",
    "        return '(%s, %s)' % (self.real, self.imag)\n",
    "    \n",
    "    def __add__(self,other):\n",
    "        '''Adds the complex number'''\n",
    "        return Complex(self.real + other.real , self.imag +other.imag)\n",
    "    \n",
    "    def __sub__(self,other):\n",
    "        '''Subtracts the complex number'''\n",
    "        return Complex(self.real-other.real ,self.imag-other.imag)\n",
    "    \n",
    "    def __mul__(self,other):\n",
    "        '''Multiplies the complex number '''\n",
    "        return Complex(self.real * other.real , self.imag*other.imag)\n",
    "    \n",
    "    def __eq__(self, other):\n",
    "        return self.real == other.real and self.imag == other.imag"
   ]
  },
  {
   "cell_type": "code",
   "execution_count": 37,
   "id": "e4be8c95",
   "metadata": {},
   "outputs": [],
   "source": [
    "a=Complex(3,5j)"
   ]
  },
  {
   "cell_type": "code",
   "execution_count": 38,
   "id": "ee3318dd",
   "metadata": {},
   "outputs": [],
   "source": [
    "b= Complex(1,5j)"
   ]
  },
  {
   "cell_type": "code",
   "execution_count": 39,
   "id": "6aa11036",
   "metadata": {},
   "outputs": [
    {
     "name": "stdout",
     "output_type": "stream",
     "text": [
      "(4, 10j)\n"
     ]
    }
   ],
   "source": [
    "print(a+b)"
   ]
  },
  {
   "cell_type": "code",
   "execution_count": 40,
   "id": "3fc4ec86",
   "metadata": {},
   "outputs": [
    {
     "name": "stdout",
     "output_type": "stream",
     "text": [
      "(2, 0j)\n"
     ]
    }
   ],
   "source": [
    "print(a-b)"
   ]
  },
  {
   "cell_type": "code",
   "execution_count": 41,
   "id": "15e8e403",
   "metadata": {},
   "outputs": [
    {
     "name": "stdout",
     "output_type": "stream",
     "text": [
      "(3, (-25+0j))\n"
     ]
    }
   ],
   "source": [
    "print(a*b)"
   ]
  },
  {
   "cell_type": "code",
   "execution_count": 42,
   "id": "a3ba1337",
   "metadata": {},
   "outputs": [
    {
     "name": "stdout",
     "output_type": "stream",
     "text": [
      "False\n"
     ]
    }
   ],
   "source": [
    "print(a == b)"
   ]
  },
  {
   "cell_type": "code",
   "execution_count": 43,
   "id": "a8c6e8aa",
   "metadata": {},
   "outputs": [],
   "source": [
    "\n",
    "import numpy as np\n",
    "\n",
    "class CustomComplex(complex):\n",
    "    def __lt__(self, other):\n",
    "        return np.abs(self) < np.abs(other)\n",
    "    def __le__(self, other):\n",
    "        return np.abs(self) <= np.abs(other)\n",
    "    def __eq__(self, other):\n",
    "        return np.abs(self) == np.abs(other)\n",
    "    def __ne__(self, other):\n",
    "        return np.abs(self) != np.abs(other)\n",
    "    def __gt__(self, other):\n",
    "        return np.abs(self) > np.abs(other)\n",
    "    def __ge__(self, other):\n",
    "        return np.abs(self) >= np.abs(other)"
   ]
  },
  {
   "cell_type": "code",
   "execution_count": 44,
   "id": "a2b4c137",
   "metadata": {},
   "outputs": [],
   "source": [
    "a=CustomComplex(3,5j)"
   ]
  },
  {
   "cell_type": "code",
   "execution_count": 45,
   "id": "3d336d63",
   "metadata": {},
   "outputs": [],
   "source": [
    "b=CustomComplex(1,4j)"
   ]
  },
  {
   "cell_type": "code",
   "execution_count": 46,
   "id": "c07be371",
   "metadata": {},
   "outputs": [
    {
     "data": {
      "text/plain": [
       "True"
      ]
     },
     "execution_count": 46,
     "metadata": {},
     "output_type": "execute_result"
    }
   ],
   "source": [
    "a<b"
   ]
  },
  {
   "cell_type": "code",
   "execution_count": 47,
   "id": "5c14fe0f",
   "metadata": {},
   "outputs": [
    {
     "data": {
      "text/plain": [
       "False"
      ]
     },
     "execution_count": 47,
     "metadata": {},
     "output_type": "execute_result"
    }
   ],
   "source": [
    "a>b"
   ]
  },
  {
   "cell_type": "code",
   "execution_count": 48,
   "id": "52200a8a",
   "metadata": {},
   "outputs": [
    {
     "data": {
      "text/plain": [
       "False"
      ]
     },
     "execution_count": 48,
     "metadata": {},
     "output_type": "execute_result"
    }
   ],
   "source": [
    "a==b"
   ]
  },
  {
   "cell_type": "markdown",
   "id": "734244b9",
   "metadata": {},
   "source": [
    "### 5.Create a Class representing the clone behavior of lists in python.\n",
    "\n",
    "a.  Eg. List(“1234”) works same as list(“1234”)\n",
    "\n",
    "b.  Adding 2 lists, multiple ways of instantiating using @classmethod.\n"
   ]
  },
  {
   "cell_type": "markdown",
   "id": "e04bc7fb",
   "metadata": {},
   "source": [
    "### a)"
   ]
  },
  {
   "cell_type": "code",
   "execution_count": 49,
   "id": "3db38f96",
   "metadata": {},
   "outputs": [
    {
     "data": {
      "text/plain": [
       "['1', '2', '3', '4', '5']"
      ]
     },
     "execution_count": 49,
     "metadata": {},
     "output_type": "execute_result"
    }
   ],
   "source": [
    "list('12345')"
   ]
  },
  {
   "cell_type": "code",
   "execution_count": 50,
   "id": "eb04a716",
   "metadata": {},
   "outputs": [],
   "source": [
    "class List:\n",
    "    def __init__(self,string):\n",
    "        self.string=string\n",
    "    @property\n",
    "    def getList(self):\n",
    "        return list(self.string)"
   ]
  },
  {
   "cell_type": "code",
   "execution_count": 51,
   "id": "45c35683",
   "metadata": {},
   "outputs": [
    {
     "data": {
      "text/plain": [
       "['1', '2', '3', '4', '5']"
      ]
     },
     "execution_count": 51,
     "metadata": {},
     "output_type": "execute_result"
    }
   ],
   "source": [
    "List(\"12345\").getList"
   ]
  },
  {
   "cell_type": "code",
   "execution_count": 52,
   "id": "2a6e2481",
   "metadata": {},
   "outputs": [
    {
     "data": {
      "text/plain": [
       "True"
      ]
     },
     "execution_count": 52,
     "metadata": {},
     "output_type": "execute_result"
    }
   ],
   "source": [
    "List(\"12345\").getList == list('12345')"
   ]
  },
  {
   "cell_type": "markdown",
   "id": "66e2cb16",
   "metadata": {},
   "source": [
    "### b)"
   ]
  },
  {
   "cell_type": "code",
   "execution_count": 53,
   "id": "4d238ada",
   "metadata": {},
   "outputs": [],
   "source": [
    "class AddList:\n",
    "    def __init__(self,list1,list2):\n",
    "        self.list1=list1\n",
    "        self.list2=list2\n",
    "        \n",
    "    @classmethod\n",
    "    def fromString(self , str1,str2):\n",
    "        str1=list(str1)\n",
    "        str2=list(str2)\n",
    "        str1=[int(str1[i]) for i in range(len(str1))]\n",
    "        str2=[int(str2[i]) for i in range(len(str2))]\n",
    "        \n",
    "        return self(str1,str2)\n",
    "        \n",
    "    \n",
    "    @property\n",
    "    def add_list(self):\n",
    "        result = [self.list1[i]+self.list2[i] for i in range(len(self.list1))]\n",
    "        return result"
   ]
  },
  {
   "cell_type": "code",
   "execution_count": 54,
   "id": "b0b78e3f",
   "metadata": {},
   "outputs": [
    {
     "data": {
      "text/plain": [
       "[2, 4, 6]"
      ]
     },
     "execution_count": 54,
     "metadata": {},
     "output_type": "execute_result"
    }
   ],
   "source": [
    "AddList([1,2,3],[1,2,3]).add_list"
   ]
  },
  {
   "cell_type": "code",
   "execution_count": 55,
   "id": "d9b7b722",
   "metadata": {},
   "outputs": [
    {
     "data": {
      "text/plain": [
       "[2, 4, 6]"
      ]
     },
     "execution_count": 55,
     "metadata": {},
     "output_type": "execute_result"
    }
   ],
   "source": [
    "AddList.fromString(\"123\",\"123\").add_list"
   ]
  },
  {
   "cell_type": "markdown",
   "id": "c472ec95",
   "metadata": {},
   "source": [
    "### 6.Replicate the behaviour of range() object using :\n",
    "\n",
    "a. Iterator class, __iter__ and __next__\n",
    "\n",
    "b. Generator\n",
    "\n",
    "c. Generator comprehension\n"
   ]
  },
  {
   "cell_type": "markdown",
   "id": "f7aabad6",
   "metadata": {},
   "source": [
    "#### range() is a built-in generator"
   ]
  },
  {
   "cell_type": "code",
   "execution_count": 56,
   "id": "407e888f",
   "metadata": {},
   "outputs": [
    {
     "name": "stdout",
     "output_type": "stream",
     "text": [
      "0\n",
      "1\n",
      "2\n",
      "3\n",
      "4\n",
      "5\n",
      "6\n",
      "7\n",
      "8\n",
      "9\n"
     ]
    }
   ],
   "source": [
    "for item in range(10):\n",
    "    print(item)"
   ]
  },
  {
   "cell_type": "markdown",
   "id": "1d58dcf2",
   "metadata": {},
   "source": [
    "### a."
   ]
  },
  {
   "cell_type": "code",
   "execution_count": 57,
   "id": "5cdc7ab8",
   "metadata": {},
   "outputs": [],
   "source": [
    "class iterator_custom:\n",
    "    def __init__(self, max=0):\n",
    "        self.max = max\n",
    "\n",
    "    def __iter__(self):\n",
    "        self.n = 0\n",
    "        return self\n",
    "\n",
    "    def __next__(self):\n",
    "        if self.n < self.max:\n",
    "            results=self.n\n",
    "            self.n+=1\n",
    "            return results\n",
    "        else:\n",
    "            raise StopIteration   "
   ]
  },
  {
   "cell_type": "code",
   "execution_count": 58,
   "id": "c8e66d98",
   "metadata": {},
   "outputs": [
    {
     "name": "stdout",
     "output_type": "stream",
     "text": [
      "0\n",
      "1\n",
      "2\n",
      "3\n",
      "4\n",
      "5\n",
      "6\n",
      "7\n",
      "8\n",
      "9\n"
     ]
    }
   ],
   "source": [
    "for item in iterator_custom(10):\n",
    "    print(item)"
   ]
  },
  {
   "cell_type": "markdown",
   "id": "35a86898",
   "metadata": {},
   "source": [
    "### b"
   ]
  },
  {
   "cell_type": "code",
   "execution_count": 59,
   "id": "c480eaa6",
   "metadata": {},
   "outputs": [
    {
     "data": {
      "text/plain": [
       "[0, 1, 2, 3, 4, 5, 6, 7, 8, 9]"
      ]
     },
     "execution_count": 59,
     "metadata": {},
     "output_type": "execute_result"
    }
   ],
   "source": [
    "def generator(max):\n",
    "    i=0\n",
    "    while True:\n",
    "        yield i\n",
    "        i+=1\n",
    "        if i >=10:\n",
    "            return\n",
    "list(generator(10))  "
   ]
  },
  {
   "cell_type": "markdown",
   "id": "c44e6aab",
   "metadata": {},
   "source": [
    "### c."
   ]
  },
  {
   "cell_type": "code",
   "execution_count": 60,
   "id": "46a5d3de",
   "metadata": {},
   "outputs": [
    {
     "data": {
      "text/plain": [
       "[0, 1, 2, 3, 4, 5, 6, 7, 8, 9]"
      ]
     },
     "execution_count": 60,
     "metadata": {},
     "output_type": "execute_result"
    }
   ],
   "source": [
    "[i for i in range(10)]"
   ]
  },
  {
   "cell_type": "markdown",
   "id": "641d61de",
   "metadata": {},
   "source": [
    "# Python Assignment Part 3"
   ]
  },
  {
   "cell_type": "code",
   "execution_count": 66,
   "id": "6e3b2086",
   "metadata": {},
   "outputs": [],
   "source": [
    "def connect():\n",
    "    connection = psycopg2.connect(user=\"postgres\",\n",
    "                                  password=\"admin\",\n",
    "                                  host=\"localhost\",\n",
    "                                  port=\"5432\",\n",
    "                                  )\n",
    "    connection.set_isolation_level(ISOLATION_LEVEL_AUTOCOMMIT);\n",
    "    return connection"
   ]
  },
  {
   "cell_type": "code",
   "execution_count": 67,
   "id": "d0539b29",
   "metadata": {},
   "outputs": [],
   "source": [
    "import psycopg2\n",
    "from psycopg2.extensions import ISOLATION_LEVEL_AUTOCOMMIT"
   ]
  },
  {
   "cell_type": "code",
   "execution_count": 68,
   "id": "43df7615",
   "metadata": {},
   "outputs": [
    {
     "name": "stdout",
     "output_type": "stream",
     "text": [
      "Database sucessfully created\n",
      "\n",
      "PostgreSQL connection is closed\n"
     ]
    }
   ],
   "source": [
    "\n",
    "try:\n",
    "    connection = connect()\n",
    "    query = \"CREATE DATABASE first_weekend_python_assignments;\"\n",
    "    \n",
    "    \n",
    "    cursor = connection.cursor()\n",
    "    \n",
    "    # Executing a SQL query\n",
    "    cursor.execute(query)\n",
    "    print(\"Database sucessfully created\")\n",
    "except (Exception, Error) as error:\n",
    "    print(\"Error while connecting to PostgreSQL\", error)\n",
    "finally:\n",
    "    if (connection):\n",
    "        cursor.close()\n",
    "        connection.close()\n",
    "        print('')\n",
    "        print(\"PostgreSQL connection is closed\")"
   ]
  },
  {
   "cell_type": "markdown",
   "id": "940278d3",
   "metadata": {},
   "source": [
    "### Defining connect() method so we can we it laster through out our code"
   ]
  },
  {
   "cell_type": "code",
   "execution_count": 69,
   "id": "7f44efdf",
   "metadata": {},
   "outputs": [],
   "source": [
    "#Defining connect() method so we can we it laster through out our code to connect to the database\n",
    "def connect():\n",
    "    connection = psycopg2.connect(user=\"postgres\",\n",
    "                                  password=\"admin\",\n",
    "                                  host=\"localhost\",\n",
    "                                  port=\"5432\",\n",
    "                                  database=\"first_weekend_python_assignments\")\n",
    "    \n",
    "    return connection"
   ]
  },
  {
   "cell_type": "code",
   "execution_count": 70,
   "id": "553ee914",
   "metadata": {},
   "outputs": [
    {
     "name": "stdout",
     "output_type": "stream",
     "text": [
      "PostgreSQL server information\n",
      "{'user': 'postgres', 'channel_binding': 'prefer', 'dbname': 'first_weekend_python_assignments', 'host': 'localhost', 'port': '5432', 'tty': '', 'options': '', 'sslmode': 'prefer', 'sslcompression': '0', 'ssl_min_protocol_version': 'TLSv1.2', 'gssencmode': 'prefer', 'krbsrvname': 'postgres', 'target_session_attrs': 'any'} \n",
      "\n",
      "You are connected to -  ('PostgreSQL 12.8 (Ubuntu 12.8-0ubuntu0.20.04.1) on x86_64-pc-linux-gnu, compiled by gcc (Ubuntu 9.3.0-17ubuntu1~20.04) 9.3.0, 64-bit',) \n",
      "\n",
      "PostgreSQL connection is closed\n"
     ]
    }
   ],
   "source": [
    "try:\n",
    "    connection = connect()\n",
    "    cursor = connection.cursor()\n",
    "    # Print PostgreSQL details\n",
    "    print(\"PostgreSQL server information\")\n",
    "    print(connection.get_dsn_parameters(), \"\\n\")\n",
    "    # Executing a SQL query\n",
    "    cursor.execute(\"SELECT version();\")\n",
    "    # Fetch result\n",
    "    record = cursor.fetchone()\n",
    "    print(\"You are connected to - \", record, \"\\n\")\n",
    "except (Exception, Error) as error:\n",
    "    print(\"Error while connecting to PostgreSQL\", error)\n",
    "finally:\n",
    "    if (connection):\n",
    "        cursor.close()\n",
    "        connection.close()\n",
    "        print(\"PostgreSQL connection is closed\")"
   ]
  },
  {
   "cell_type": "markdown",
   "id": "c4b199a4",
   "metadata": {},
   "source": [
    "### Creating tables user in the database weekend_python_assignment"
   ]
  },
  {
   "cell_type": "code",
   "execution_count": 87,
   "id": "f4238910",
   "metadata": {},
   "outputs": [
    {
     "name": "stdout",
     "output_type": "stream",
     "text": [
      "Tables sucessfully created\n",
      "\n",
      "PostgreSQL connection is closed\n"
     ]
    }
   ],
   "source": [
    "import logging\n",
    "try:\n",
    "    connection = connect()\n",
    "    \n",
    "    cursor = connection.cursor()\n",
    "    \n",
    "    query_1 = '''\n",
    "    CREATE TABLE users (\n",
    "    id SERIAL PRIMARY KEY,\n",
    "    name TEXT,\n",
    "    dob DATE,\n",
    "    profession TEXT\n",
    "    )\n",
    "    '''\n",
    "    cursor.execute(query_1)\n",
    "    \n",
    "    query_2 = '''\n",
    "    CREATE TABLE address(\n",
    "    id SERIAL PRIMARY KEY,\n",
    "    user_id INT,\n",
    "    permanent_address TEXT,\n",
    "    temporary_address TEXT,\n",
    "    \n",
    "    CONSTRAINT fk_address_users\n",
    "    FOREIGN KEY(user_id) REFERENCES users(id),\n",
    "    \n",
    "    CONSTRAINT fk_address_users_unique \n",
    "    UNIQUE(user_id)\n",
    "    )\n",
    "    '''\n",
    "    \n",
    "    cursor.execute(query_2)\n",
    "    \n",
    "    connection.commit()\n",
    "    \n",
    "    \n",
    "    \n",
    "    print(\"Tables sucessfully created\")\n",
    "except (Exception,psycopg2.Error) as error:\n",
    "    #print(\"Error while connecting to PostgresSQL: \",error)\n",
    "    logging.debug(\"An exception was thrown!\", exc_info=True)\n",
    "    logging.info(\"An exception was thrown!\", exc_info=True)\n",
    "    logging.warning(\"An exception was thrown!\", exc_info=True)\n",
    "finally:\n",
    "    if(connection):\n",
    "        cursor.close()\n",
    "        print('')\n",
    "        print(\"PostgreSQL connection is closed\")"
   ]
  },
  {
   "cell_type": "markdown",
   "id": "82936f02",
   "metadata": {},
   "source": [
    "### Inserting dummy data in the tables using psycopg connection"
   ]
  },
  {
   "cell_type": "code",
   "execution_count": 88,
   "id": "26ca7eb7",
   "metadata": {},
   "outputs": [],
   "source": [
    "data_user=[('sandesh','1997-4-1','data engineer'),('ram','1997-8-1','data scientist'),('john','1996-8-5','Clerk'),('hari','1998-4-1','Full stack'),('Gita','1997-7-5','Linux eng'),('Krishna','1999-1-1','Manager')]"
   ]
  },
  {
   "cell_type": "code",
   "execution_count": 89,
   "id": "e9c34a80",
   "metadata": {},
   "outputs": [],
   "source": [
    "data_user_address = [(1,\"Nepal\",\"usa\"),(2,\"ktm\",\"jumla\"),(3,\"bkt\",\"kalikot\"),(4,\"lalitpur\",\"ithari\"),(5,\"bkt\",\"ilam\"),(6,\"ktm\",\"dharan\")]"
   ]
  },
  {
   "cell_type": "code",
   "execution_count": 90,
   "id": "9b8d4118",
   "metadata": {},
   "outputs": [
    {
     "name": "stdout",
     "output_type": "stream",
     "text": [
      "Data sucessfully inserted inside user\n",
      "Data sucessfully inserted inside address\n",
      "\n",
      "PostgreSQL connection is closed\n"
     ]
    }
   ],
   "source": [
    "import logging\n",
    "try:\n",
    "    connection = connect()\n",
    "    \n",
    "    cursor = connection.cursor()\n",
    "    \n",
    "    for item in data_user:\n",
    "        query='''\n",
    "        INSERT INTO users(name,dob,profession)\n",
    "        VALUES (%s,%s,%s)\n",
    "        '''\n",
    "    \n",
    "        cursor.execute(query , item)\n",
    "    \n",
    "    connection.commit()\n",
    "    \n",
    "    \n",
    "    print(\"Data sucessfully inserted inside user\")\n",
    "    \n",
    "    for item in data_user_address:\n",
    "        query='''\n",
    "        INSERT INTO address(user_id,permanent_address,temporary_address)\n",
    "        VALUES (%s,%s,%s)\n",
    "        '''\n",
    "    \n",
    "        cursor.execute(query , item)\n",
    "    \n",
    "    connection.commit()\n",
    "    print(\"Data sucessfully inserted inside address\")\n",
    "    \n",
    "except (Exception,psycopg2.Error) as error:\n",
    "    #print(\"Error while connecting to PostgresSQL: \",error)\n",
    "    logging.debug(\"An exception was thrown!\", exc_info=True)\n",
    "    logging.info(\"An exception was thrown!\", exc_info=True)\n",
    "    logging.warning(\"An exception was thrown!\", exc_info=True)\n",
    "finally:\n",
    "    if(connection):\n",
    "        cursor.close()\n",
    "        print('')\n",
    "        print(\"PostgreSQL connection is closed\")"
   ]
  },
  {
   "cell_type": "markdown",
   "id": "242d1112",
   "metadata": {},
   "source": [
    "### Fetch data from the joined users and address table \n",
    "    -- given user_id\n",
    "    \n",
    "    -- given profession and permanent_address\n"
   ]
  },
  {
   "cell_type": "code",
   "execution_count": 91,
   "id": "35383e69",
   "metadata": {},
   "outputs": [],
   "source": [
    "import pandas as pd"
   ]
  },
  {
   "cell_type": "code",
   "execution_count": 92,
   "id": "18130e06",
   "metadata": {},
   "outputs": [
    {
     "data": {
      "text/html": [
       "<div>\n",
       "<style scoped>\n",
       "    .dataframe tbody tr th:only-of-type {\n",
       "        vertical-align: middle;\n",
       "    }\n",
       "\n",
       "    .dataframe tbody tr th {\n",
       "        vertical-align: top;\n",
       "    }\n",
       "\n",
       "    .dataframe thead th {\n",
       "        text-align: right;\n",
       "    }\n",
       "</style>\n",
       "<table border=\"1\" class=\"dataframe\">\n",
       "  <thead>\n",
       "    <tr style=\"text-align: right;\">\n",
       "      <th></th>\n",
       "      <th>USER ID</th>\n",
       "    </tr>\n",
       "  </thead>\n",
       "  <tbody>\n",
       "    <tr>\n",
       "      <th>0</th>\n",
       "      <td>1</td>\n",
       "    </tr>\n",
       "    <tr>\n",
       "      <th>1</th>\n",
       "      <td>2</td>\n",
       "    </tr>\n",
       "    <tr>\n",
       "      <th>2</th>\n",
       "      <td>3</td>\n",
       "    </tr>\n",
       "    <tr>\n",
       "      <th>3</th>\n",
       "      <td>4</td>\n",
       "    </tr>\n",
       "    <tr>\n",
       "      <th>4</th>\n",
       "      <td>5</td>\n",
       "    </tr>\n",
       "    <tr>\n",
       "      <th>5</th>\n",
       "      <td>6</td>\n",
       "    </tr>\n",
       "  </tbody>\n",
       "</table>\n",
       "</div>"
      ],
      "text/plain": [
       "   USER ID\n",
       "0        1\n",
       "1        2\n",
       "2        3\n",
       "3        4\n",
       "4        5\n",
       "5        6"
      ]
     },
     "execution_count": 92,
     "metadata": {},
     "output_type": "execute_result"
    }
   ],
   "source": [
    "conn =connect()\n",
    "cur = conn.cursor()\n",
    "query = '''\n",
    "\n",
    "SELECT id AS \"USER ID\"\n",
    "FROM users\n",
    "\n",
    "\n",
    "'''\n",
    "cur.execute(query)\n",
    "col = [desc[0] for desc in cur.description]  \n",
    "\n",
    "df=pd.DataFrame(columns=col,data=cur.fetchall())\n",
    "df"
   ]
  },
  {
   "cell_type": "code",
   "execution_count": 93,
   "id": "059069ff",
   "metadata": {},
   "outputs": [
    {
     "data": {
      "text/html": [
       "<div>\n",
       "<style scoped>\n",
       "    .dataframe tbody tr th:only-of-type {\n",
       "        vertical-align: middle;\n",
       "    }\n",
       "\n",
       "    .dataframe tbody tr th {\n",
       "        vertical-align: top;\n",
       "    }\n",
       "\n",
       "    .dataframe thead th {\n",
       "        text-align: right;\n",
       "    }\n",
       "</style>\n",
       "<table border=\"1\" class=\"dataframe\">\n",
       "  <thead>\n",
       "    <tr style=\"text-align: right;\">\n",
       "      <th></th>\n",
       "      <th>Name</th>\n",
       "      <th>profession</th>\n",
       "    </tr>\n",
       "  </thead>\n",
       "  <tbody>\n",
       "    <tr>\n",
       "      <th>0</th>\n",
       "      <td>sandesh</td>\n",
       "      <td>data engineer</td>\n",
       "    </tr>\n",
       "    <tr>\n",
       "      <th>1</th>\n",
       "      <td>ram</td>\n",
       "      <td>data scientist</td>\n",
       "    </tr>\n",
       "    <tr>\n",
       "      <th>2</th>\n",
       "      <td>john</td>\n",
       "      <td>Clerk</td>\n",
       "    </tr>\n",
       "    <tr>\n",
       "      <th>3</th>\n",
       "      <td>hari</td>\n",
       "      <td>Full stack</td>\n",
       "    </tr>\n",
       "    <tr>\n",
       "      <th>4</th>\n",
       "      <td>Gita</td>\n",
       "      <td>Linux eng</td>\n",
       "    </tr>\n",
       "    <tr>\n",
       "      <th>5</th>\n",
       "      <td>Krishna</td>\n",
       "      <td>Manager</td>\n",
       "    </tr>\n",
       "  </tbody>\n",
       "</table>\n",
       "</div>"
      ],
      "text/plain": [
       "      Name      profession\n",
       "0  sandesh   data engineer\n",
       "1      ram  data scientist\n",
       "2     john           Clerk\n",
       "3     hari      Full stack\n",
       "4     Gita       Linux eng\n",
       "5  Krishna         Manager"
      ]
     },
     "execution_count": 93,
     "metadata": {},
     "output_type": "execute_result"
    }
   ],
   "source": [
    "query = '''\n",
    "\n",
    "SELECT u.name AS \"Name\",u.profession\n",
    "FROM users u\n",
    "INNER JOIN address a\n",
    "    ON u.id = a.user_id\n",
    "\n",
    "\n",
    "\n",
    "'''\n",
    "cur.execute(query)\n",
    "col = [desc[0] for desc in cur.description]  \n",
    "\n",
    "df=pd.DataFrame(columns=col,data=cur.fetchall())\n",
    "df"
   ]
  },
  {
   "cell_type": "markdown",
   "id": "e35af3d0",
   "metadata": {},
   "source": [
    "### Update table users and add column gender"
   ]
  },
  {
   "cell_type": "code",
   "execution_count": 94,
   "id": "ec7292f8",
   "metadata": {},
   "outputs": [
    {
     "name": "stdout",
     "output_type": "stream",
     "text": [
      "sucessfully added the table gender\n"
     ]
    }
   ],
   "source": [
    "query = '''\n",
    "\n",
    "ALTER TABLE users\n",
    "ADD gender CHAR(1)\n",
    "\n",
    "'''\n",
    "cur.execute(query)\n",
    "\n",
    "print(\"sucessfully added the table gender\")"
   ]
  },
  {
   "cell_type": "markdown",
   "id": "72035f60",
   "metadata": {},
   "source": [
    "### Delete records from user whose age is less than 20 yrs\n"
   ]
  },
  {
   "cell_type": "code",
   "execution_count": null,
   "id": "b149a9f2",
   "metadata": {},
   "outputs": [],
   "source": [
    "conn =connect()\n",
    "cursor = conn.cursor()\n",
    "query = '''\n",
    "\n",
    "DELETE EXTRACT(YEAR FROM age(cast(dob as date))) AS age\n",
    "FROM users\n",
    "WHERE age<20;\n",
    "\n",
    "'''\n",
    "cur.execute(query)"
   ]
  }
 ],
 "metadata": {
  "kernelspec": {
   "display_name": "Python 3 (ipykernel)",
   "language": "python",
   "name": "python3"
  },
  "language_info": {
   "codemirror_mode": {
    "name": "ipython",
    "version": 3
   },
   "file_extension": ".py",
   "mimetype": "text/x-python",
   "name": "python",
   "nbconvert_exporter": "python",
   "pygments_lexer": "ipython3",
   "version": "3.8.10"
  }
 },
 "nbformat": 4,
 "nbformat_minor": 5
}
