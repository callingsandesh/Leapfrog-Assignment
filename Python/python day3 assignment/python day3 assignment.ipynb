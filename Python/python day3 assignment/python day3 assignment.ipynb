{
 "cells": [
  {
   "cell_type": "markdown",
   "id": "8d3f8e62",
   "metadata": {},
   "source": [
    "## Python Basics - Domain Specific Assignment"
   ]
  },
  {
   "cell_type": "code",
   "execution_count": 16,
   "id": "c40c97bf",
   "metadata": {},
   "outputs": [
    {
     "name": "stdout",
     "output_type": "stream",
     "text": [
      "PostgreSQL server information\n",
      "{'user': 'postgres', 'dbname': 'day3_practise', 'host': 'localhost', 'port': '5432', 'tty': '', 'options': '', 'sslmode': 'prefer', 'sslcompression': '0', 'krbsrvname': 'postgres', 'target_session_attrs': 'any'} \n",
      "\n",
      "You are connected to -  ('PostgreSQL 12.8, compiled by Visual C++ build 1914, 64-bit',) \n",
      "\n",
      "PostgreSQL connection is closed\n"
     ]
    }
   ],
   "source": [
    "import psycopg2\n",
    "try:\n",
    "    connection = psycopg2.connect(user=\"postgres\",\n",
    "                                  password=\"admin\",\n",
    "                                  host=\"localhost\",\n",
    "                                  port=\"5432\",\n",
    "                                  database=\"day3_practise\")\n",
    "    cursor = connection.cursor()\n",
    "    # Print PostgreSQL details\n",
    "    print(\"PostgreSQL server information\")\n",
    "    print(connection.get_dsn_parameters(), \"\\n\")\n",
    "    # Executing a SQL query\n",
    "    cursor.execute(\"SELECT version();\")\n",
    "    # Fetch result\n",
    "    record = cursor.fetchone()\n",
    "    print(\"You are connected to - \", record, \"\\n\")\n",
    "except (Exception, Error) as error:\n",
    "    print(\"Error while connecting to PostgreSQL\", error)\n",
    "finally:\n",
    "    if (connection):\n",
    "        cursor.close()\n",
    "        connection.close()\n",
    "        print(\"PostgreSQL connection is closed\")"
   ]
  },
  {
   "cell_type": "markdown",
   "id": "9d99fc71",
   "metadata": {},
   "source": [
    "### 1.Using psycopg2 connect to a local database and create the following tables:\n",
    "#### a)Doctor (id, name, specialization (FK), phone_number)\n",
    "#### b)Patient (id, name, date_of_birth, gender)\n",
    "#### c)Appointment (id, doctor_id (FK), patient_id (FK), fee, diagnosis)\n",
    "#### d)Doctor Specialization (id, specialization_type)\n"
   ]
  },
  {
   "cell_type": "code",
   "execution_count": 17,
   "id": "68be3feb",
   "metadata": {},
   "outputs": [
    {
     "name": "stdout",
     "output_type": "stream",
     "text": [
      "PostgreSQL connection is closed\n"
     ]
    }
   ],
   "source": [
    "try:\n",
    "    connection = psycopg2.connect(user=\"postgres\",\n",
    "                                  password=\"admin\",\n",
    "                                  host=\"localhost\",\n",
    "                                  port=\"5432\",\n",
    "                                  database=\"day3_practise\")\n",
    "    cursor = connection.cursor()\n",
    "    \n",
    "    query1 = '''CREATE TABLE Doctor_Specialization \n",
    "        (id serial PRIMARY KEY,\n",
    "        specialization_type varchar(50) NOT NULL\n",
    "        )'''\n",
    "    query2 = '''CREATE TABLE Doctor \n",
    "    (id  serial PRIMARY KEY,\n",
    "    name varchar(50) NOT NULL,\n",
    "    specification INT , \n",
    "    phone_number BIGINT NOT NULL UNIQUE,\n",
    "    CONSTRAINT fk_doctor_specification FOREIGN KEY(specification)\n",
    "    REFERENCES Doctor(id)\n",
    "    \n",
    "    )'''\n",
    "    \n",
    "    \n",
    "    query3='''CREATE TABLE Patient \n",
    "    (id serial PRIMARY KEY,\n",
    "    name VARCHAR(100),\n",
    "    date_of_birth DATE NOT NULL,\n",
    "    gender VARCHAR(6) )'''\n",
    "    \n",
    "    query4 = ''' CREATE TABLE Appointment \n",
    "    (id  serial PRIMARY KEY,\n",
    "    doctor_id INT,\n",
    "    patient_id INT,\n",
    "    fee INT,\n",
    "    diagnosis VARCHAR(500),\n",
    "    CONSTRAINT fk_doctor FOREIGN KEY(doctor_id)\n",
    "    REFERENCES Doctor(id),\n",
    "    CONSTRAINT fk_patient FOREIGN KEY(patient_id)\n",
    "    REFERENCES Patient(id))'''\n",
    "    \n",
    "    \n",
    "    # Executing a SQL query\n",
    "    cursor.execute(query1)\n",
    "    cursor.execute(query2)\n",
    "    cursor.execute(query3)\n",
    "    cursor.execute(query4)\n",
    "    connection.commit()\n",
    "    \n",
    "except (Exception, Error) as error:\n",
    "    print(\"Error while connecting to PostgreSQL\", error)\n",
    "finally:\n",
    "    if (connection):\n",
    "        cursor.close()\n",
    "        connection.close()\n",
    "        print(\"PostgreSQL connection is closed\")"
   ]
  },
  {
   "cell_type": "markdown",
   "id": "e6fe0252",
   "metadata": {},
   "source": [
    "#### 2) INSERT the following data in the tables. Use both execute() and executemany() methods with parameter binding.\n"
   ]
  },
  {
   "cell_type": "code",
   "execution_count": 18,
   "id": "d6a5737a",
   "metadata": {},
   "outputs": [
    {
     "name": "stdout",
     "output_type": "stream",
     "text": [
      "PostgreSQL connection is closed\n"
     ]
    }
   ],
   "source": [
    "try:\n",
    "    connection = psycopg2.connect(user=\"postgres\",\n",
    "                                  password=\"admin\",\n",
    "                                  host=\"localhost\",\n",
    "                                  port=\"5432\",\n",
    "                                  database=\"day3_practise\")\n",
    "    cursor = connection.cursor()\n",
    "    \n",
    "    query1 = '''INSERT INTO doctor_Specialization(\"id\",\"specialization_type\")\n",
    "    VALUES (1,'Anaesthesiologist'),\n",
    "    (2,'Surgeon'),\n",
    "    (3,'Psychiatrist');\n",
    "    '''\n",
    "    \n",
    "\n",
    "    \n",
    "\n",
    "    query2 = '''INSERT INTO Doctor\n",
    "    VALUES(1,'Lionel Smart',1 ,2811232323 ),\n",
    "    (2,'Michelle Sanders',2 ,1899912310 ),\n",
    "    (3,'Pretti Patel',3 ,7980123982 ),\n",
    "    (4,'Sadiq Khan',1 ,7983129813 ),\n",
    "    (5,'Chaz Smith',2 ,2039820398 )'''\n",
    "    \n",
    "\n",
    "    query3='''INSERT INTO Patient\n",
    "    VALUES(1,'Jane Henderson','1989-09-19','Female'),\n",
    "    (2,'Alice Sprigg','1991-11-12','Female'),\n",
    "    (3,'JDave Carr','1995-03-28','Male'),\n",
    "    (4,'Morris Beckman','2001-07-07','Male')'''\n",
    "    \n",
    "\n",
    "    \n",
    "    query4 = '''INSERT INTO Appointment\n",
    "    VALUES(1,1,2,1000,NULL),\n",
    "    (2,1,4,1000,'Headache'),\n",
    "    (3,4,3,2000,NULL),\n",
    "    (4,2,1,1500,'Back Pain')'''\n",
    "\n",
    "\n",
    "    cursor.execute(query1)\n",
    "    cursor.execute(query2)\n",
    "    cursor.execute(query3)\n",
    "    cursor.execute(query4)\n",
    "    connection.commit()\n",
    "except (Exception, psycopg2.Error) as error:\n",
    "    print(\"Error while connecting to PostgreSQL\", error)\n",
    "finally:\n",
    "    if (connection):\n",
    "        cursor.close()\n",
    "        connection.close()\n",
    "        print(\"PostgreSQL connection is closed\")"
   ]
  },
  {
   "cell_type": "markdown",
   "id": "790519cf",
   "metadata": {},
   "source": [
    "#### 3)GET the count of patients born after 1990."
   ]
  },
  {
   "cell_type": "code",
   "execution_count": 33,
   "id": "c7d867b9",
   "metadata": {},
   "outputs": [
    {
     "name": "stdout",
     "output_type": "stream",
     "text": [
      "The count of patient born after 1990 is: 3\n",
      "\n",
      "PostgreSQL connection is closed\n"
     ]
    }
   ],
   "source": [
    "try:\n",
    "    connection = psycopg2.connect(user=\"postgres\",\n",
    "                                  password=\"admin\",\n",
    "                                  host=\"localhost\",\n",
    "                                  port=\"5432\",\n",
    "                                  database=\"day3_practise\")\n",
    "    cursor = connection.cursor()\n",
    "    \n",
    "    query = \"SELECT COUNT(*) FROM Patient WHERE date_of_birth > '1990-12-31' \"\n",
    "    \n",
    "    cursor.execute(query)\n",
    "    print(f\"The count of patient born after 1990 is: {cursor.fetchall()[0][0]}\")\n",
    "    \n",
    "    \n",
    "except (Exception, psycopg2.Error) as error:\n",
    "    print(\"Error while connecting to PostgreSQL\", error)\n",
    "finally:\n",
    "    if (connection):\n",
    "        cursor.close()\n",
    "        connection.close()\n",
    "        print('')\n",
    "        print(\"PostgreSQL connection is closed\")"
   ]
  },
  {
   "cell_type": "markdown",
   "id": "5414ba72",
   "metadata": {},
   "source": [
    "#### 4)GET the appointments made with “Surgeon” specialized doctors.\n"
   ]
  },
  {
   "cell_type": "code",
   "execution_count": 50,
   "id": "41bfbcb6",
   "metadata": {},
   "outputs": [
    {
     "name": "stdout",
     "output_type": "stream",
     "text": [
      "[(4, 2, 1, 1500, 'Back Pain', 2, 'Surgeon')]\n",
      "\n",
      "PostgreSQL connection is closed\n"
     ]
    }
   ],
   "source": [
    "try:\n",
    "    connection = psycopg2.connect(user=\"postgres\",\n",
    "                                  password=\"admin\",\n",
    "                                  host=\"localhost\",\n",
    "                                  port=\"5432\",\n",
    "                                  database=\"day3_practise\")\n",
    "    cursor = connection.cursor()\n",
    "    \n",
    "    query = '''SELECT * FROM appointment as a \n",
    "    INNER JOIN doctor_Specialization AS ds \n",
    "        ON a.doctor_id =ds.id\n",
    "    WHERE \n",
    "        ds.specialization_type = 'Surgeon'\n",
    "      '''\n",
    "    \n",
    "    cursor.execute(query)\n",
    "    print(cursor.fetchall())\n",
    "    \n",
    "    \n",
    "except (Exception, psycopg2.Error) as error:\n",
    "    print(\"Error while connecting to PostgreSQL\", error)\n",
    "finally:\n",
    "    if (connection):\n",
    "        cursor.close()\n",
    "        connection.close()\n",
    "        print('')\n",
    "        print(\"PostgreSQL connection is closed\")"
   ]
  },
  {
   "cell_type": "markdown",
   "id": "bb9d1e88",
   "metadata": {},
   "source": [
    "#### 5)UPDATE fees of appointments and reduce them by 25%"
   ]
  },
  {
   "cell_type": "code",
   "execution_count": 52,
   "id": "1a2d1da4",
   "metadata": {},
   "outputs": [
    {
     "name": "stdout",
     "output_type": "stream",
     "text": [
      "\n",
      "PostgreSQL connection is closed\n"
     ]
    }
   ],
   "source": [
    "try:\n",
    "    connection = psycopg2.connect(user=\"postgres\",\n",
    "                                  password=\"admin\",\n",
    "                                  host=\"localhost\",\n",
    "                                  port=\"5432\",\n",
    "                                  database=\"day3_practise\")\n",
    "    cursor = connection.cursor()\n",
    "    \n",
    "    \n",
    "    query = ''' UPDATE appointment SET fee=fee-0.25*fee\n",
    "      '''\n",
    "    \n",
    "    cursor.execute(query)\n",
    "    connection.commit()\n",
    "    \n",
    "    \n",
    "    \n",
    "except (Exception, psycopg2.Error) as error:\n",
    "    print(\"Error while connecting to PostgreSQL\", error)\n",
    "finally:\n",
    "    if (connection):\n",
    "        cursor.close()\n",
    "        connection.close()\n",
    "        print('')\n",
    "        print(\"PostgreSQL connection is closed\")"
   ]
  },
  {
   "cell_type": "markdown",
   "id": "b492d391",
   "metadata": {},
   "source": [
    "#### 6) UPDATE phone_number of Chaz Smith to 1231292310"
   ]
  },
  {
   "cell_type": "code",
   "execution_count": 54,
   "id": "52c91c04",
   "metadata": {},
   "outputs": [],
   "source": [
    "def connect():\n",
    "    connection = psycopg2.connect(user=\"postgres\",\n",
    "                                  password=\"admin\",\n",
    "                                  host=\"localhost\",\n",
    "                                  port=\"5432\",\n",
    "                                  database=\"day3_practise\")\n",
    "    return connection"
   ]
  },
  {
   "cell_type": "code",
   "execution_count": 62,
   "id": "f95c215b",
   "metadata": {},
   "outputs": [
    {
     "name": "stdout",
     "output_type": "stream",
     "text": [
      "\n",
      "PostgreSQL connection is closed\n"
     ]
    }
   ],
   "source": [
    "try:\n",
    "    connection = connect()\n",
    "    cursor = connection.cursor()\n",
    "    \n",
    "    \n",
    "    query = ''' UPDATE doctor SET phone_number=1231292310\n",
    "    WHERE\n",
    "        name = 'Chaz Smith'\n",
    "      '''\n",
    "    \n",
    "    cursor.execute(query)\n",
    "    connection.commit()\n",
    "       \n",
    "    \n",
    "    \n",
    "    \n",
    "except (Exception, psycopg2.Error) as error:\n",
    "    print(\"Error while connecting to PostgreSQL\", error)\n",
    "finally:\n",
    "    if (connection):\n",
    "        cursor.close()\n",
    "        connection.close()\n",
    "        print('')\n",
    "        print(\"PostgreSQL connection is closed\")"
   ]
  },
  {
   "cell_type": "markdown",
   "id": "5a248ff3",
   "metadata": {},
   "source": [
    "#### 7)DELETE all doctors who are specialized as “Psychiatrist”."
   ]
  },
  {
   "cell_type": "code",
   "execution_count": 63,
   "id": "8bdfd7a0",
   "metadata": {},
   "outputs": [
    {
     "name": "stdout",
     "output_type": "stream",
     "text": [
      "\n",
      "PostgreSQL connection is closed\n"
     ]
    }
   ],
   "source": [
    "try:\n",
    "    connection = connect()\n",
    "    cursor = connection.cursor()\n",
    "    \n",
    "    \n",
    "    query = ''' DELETE FROM doctor\n",
    "    WHERE id IN (SELECT id from doctor_specialization WHERE specialization_type = 'Psychiatrist')\n",
    "      '''\n",
    "    \n",
    "    cursor.execute(query)\n",
    "    connection.commit()\n",
    "    \n",
    "    \n",
    "    \n",
    "except (Exception, psycopg2.Error) as error:\n",
    "    print(\"Error while connecting to PostgreSQL\", error)\n",
    "finally:\n",
    "    if (connection):\n",
    "        cursor.close()\n",
    "        connection.close()\n",
    "        print('')\n",
    "        print(\"PostgreSQL connection is closed\")"
   ]
  }
 ],
 "metadata": {
  "kernelspec": {
   "display_name": "Python 3 (ipykernel)",
   "language": "python",
   "name": "python3"
  },
  "language_info": {
   "codemirror_mode": {
    "name": "ipython",
    "version": 3
   },
   "file_extension": ".py",
   "mimetype": "text/x-python",
   "name": "python",
   "nbconvert_exporter": "python",
   "pygments_lexer": "ipython3",
   "version": "3.8.5"
  }
 },
 "nbformat": 4,
 "nbformat_minor": 5
}
