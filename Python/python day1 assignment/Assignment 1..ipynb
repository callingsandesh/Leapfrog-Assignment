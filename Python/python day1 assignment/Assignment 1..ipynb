{
 "cells": [
  {
   "cell_type": "markdown",
   "id": "2dbef327",
   "metadata": {},
   "source": [
    "## Python Day1 Assignment:"
   ]
  },
  {
   "cell_type": "markdown",
   "id": "da25e962",
   "metadata": {},
   "source": [
    "### 1.Write a Python program to get the smallest and largest number from a list of integers.\n"
   ]
  },
  {
   "cell_type": "code",
   "execution_count": 1,
   "id": "124604a1",
   "metadata": {},
   "outputs": [],
   "source": [
    "a = [3,4,5,612,435,22,55,67,23,213]"
   ]
  },
  {
   "cell_type": "markdown",
   "id": "719311a7",
   "metadata": {},
   "source": [
    "#### Using inbuilt functions"
   ]
  },
  {
   "cell_type": "code",
   "execution_count": 2,
   "id": "0af8e5fe",
   "metadata": {},
   "outputs": [
    {
     "name": "stdout",
     "output_type": "stream",
     "text": [
      "3\n",
      "612\n"
     ]
    }
   ],
   "source": [
    "x=sorted(a)\n",
    "print(x[0])\n",
    "print(x[-1])"
   ]
  },
  {
   "cell_type": "code",
   "execution_count": 3,
   "id": "8f78accc",
   "metadata": {},
   "outputs": [
    {
     "data": {
      "text/plain": [
       "3"
      ]
     },
     "execution_count": 3,
     "metadata": {},
     "output_type": "execute_result"
    }
   ],
   "source": [
    "min(a)"
   ]
  },
  {
   "cell_type": "markdown",
   "id": "4dd76ce9",
   "metadata": {},
   "source": [
    "min() returns the first value in the sorted() , so it is similar to above x[0]."
   ]
  },
  {
   "cell_type": "code",
   "execution_count": 4,
   "id": "8a5aa639",
   "metadata": {},
   "outputs": [
    {
     "data": {
      "text/plain": [
       "612"
      ]
     },
     "execution_count": 4,
     "metadata": {},
     "output_type": "execute_result"
    }
   ],
   "source": [
    "max(a)"
   ]
  },
  {
   "cell_type": "markdown",
   "id": "1ccd53fc",
   "metadata": {},
   "source": [
    "max() returns the last value in the sorted() , so it is similar to above x[-1]."
   ]
  },
  {
   "cell_type": "markdown",
   "id": "ebb1bc6e",
   "metadata": {},
   "source": [
    "#### User defined function\n",
    "IF the list is large , this function berforms better as its time complexity is O(n) where as the time complexity of sorted() built in function is O(n.log n)"
   ]
  },
  {
   "cell_type": "code",
   "execution_count": 5,
   "id": "71865b18",
   "metadata": {},
   "outputs": [],
   "source": [
    "def min_max(x):\n",
    "    minimum = maximum = x[0]\n",
    "    for ele in x[1:]:\n",
    "        if ele < minimum : \n",
    "            minimum = ele\n",
    "        else:\n",
    "            if ele > maximum:\n",
    "                maximum = ele\n",
    "    return(minimum , maximum)"
   ]
  },
  {
   "cell_type": "code",
   "execution_count": 6,
   "id": "4f4ead1d",
   "metadata": {},
   "outputs": [
    {
     "data": {
      "text/plain": [
       "(3, 612)"
      ]
     },
     "execution_count": 6,
     "metadata": {},
     "output_type": "execute_result"
    }
   ],
   "source": [
    "min_max(a)"
   ]
  },
  {
   "cell_type": "markdown",
   "id": "2d1738ba",
   "metadata": {},
   "source": [
    "### 2.Write a Python program to get the following pattern using a nested loop.\n",
    "1\n",
    "\n",
    "22\n",
    "\n",
    "333\n",
    "\n",
    "4444\n",
    "\n",
    "55555\n",
    "\n",
    "666666\n",
    "\n",
    "7777777\n",
    "\n",
    "88888888\n",
    "\n",
    "999999999\n"
   ]
  },
  {
   "cell_type": "code",
   "execution_count": 7,
   "id": "2674b522",
   "metadata": {},
   "outputs": [
    {
     "name": "stdout",
     "output_type": "stream",
     "text": [
      "1\n",
      "22\n",
      "333\n",
      "4444\n",
      "55555\n",
      "666666\n",
      "7777777\n",
      "88888888\n",
      "999999999\n"
     ]
    }
   ],
   "source": [
    "for i in range(1,10):\n",
    "    for j in range(i):\n",
    "        print(i , end = '')\n",
    "    print()"
   ]
  },
  {
   "cell_type": "markdown",
   "id": "ad4fef3d",
   "metadata": {},
   "source": [
    "### 3.You are given a string and your task is to swap cases. In other words, convert all lowercase letters to uppercase letters and vice versa.Example: Pythonist 2 → pYTHONIST 2\n"
   ]
  },
  {
   "cell_type": "code",
   "execution_count": 8,
   "id": "bf6723ee",
   "metadata": {},
   "outputs": [],
   "source": [
    "word= 'Pythonist 2'"
   ]
  },
  {
   "cell_type": "code",
   "execution_count": 9,
   "id": "0f566a60",
   "metadata": {},
   "outputs": [
    {
     "name": "stdout",
     "output_type": "stream",
     "text": [
      "pYTHONIST 2\n"
     ]
    }
   ],
   "source": [
    "print(word.swapcase())"
   ]
  },
  {
   "cell_type": "markdown",
   "id": "34aa71dd",
   "metadata": {},
   "source": [
    "### 4.Given a sentence use string split and join to get the result as shown below:\n",
    "#### Sample Input: this is a string   \n",
    "#### Sample Output: this-is-a-string\n"
   ]
  },
  {
   "cell_type": "markdown",
   "id": "e377648f",
   "metadata": {},
   "source": [
    "##### If the sample input is a string"
   ]
  },
  {
   "cell_type": "code",
   "execution_count": 10,
   "id": "467e5008",
   "metadata": {},
   "outputs": [],
   "source": [
    "sample_input = \"this is a string\""
   ]
  },
  {
   "cell_type": "code",
   "execution_count": 11,
   "id": "d76b2149",
   "metadata": {},
   "outputs": [
    {
     "data": {
      "text/plain": [
       "'this-is-a-string'"
      ]
     },
     "execution_count": 11,
     "metadata": {},
     "output_type": "execute_result"
    }
   ],
   "source": [
    "sample_input.replace(' ','-')"
   ]
  },
  {
   "cell_type": "markdown",
   "id": "811d6cb5",
   "metadata": {},
   "source": [
    "##### if the sample input is a list"
   ]
  },
  {
   "cell_type": "code",
   "execution_count": 12,
   "id": "8e885170",
   "metadata": {},
   "outputs": [],
   "source": [
    "sample_input = [\"this\",'is','a','string']"
   ]
  },
  {
   "cell_type": "code",
   "execution_count": 13,
   "id": "5856a01e",
   "metadata": {},
   "outputs": [
    {
     "data": {
      "text/plain": [
       "'this-is-a-string'"
      ]
     },
     "execution_count": 13,
     "metadata": {},
     "output_type": "execute_result"
    }
   ],
   "source": [
    "'-'.join(sample_input)"
   ]
  },
  {
   "cell_type": "markdown",
   "id": "9a50a8e3",
   "metadata": {},
   "source": [
    "###  5.Write a Python program to find the difference between consecutive numbers in a given list.\n",
    "### Original list: [4, 5, 8, 9, 6, 10]\n",
    "### Difference between consecutive numbers of the said list: [1, 3, 1, -3, 4]\n"
   ]
  },
  {
   "cell_type": "code",
   "execution_count": 14,
   "id": "63e5d381",
   "metadata": {},
   "outputs": [],
   "source": [
    "original_list = [4, 5, 8, 9, 6, 10]"
   ]
  },
  {
   "cell_type": "code",
   "execution_count": 15,
   "id": "d017c963",
   "metadata": {},
   "outputs": [
    {
     "name": "stdout",
     "output_type": "stream",
     "text": [
      "[1, 3, 1, -3, 4]\n"
     ]
    }
   ],
   "source": [
    "difference_list=[]\n",
    "for i,item in enumerate(original_list):\n",
    "    try:\n",
    "        difference_list.append(original_list[i+1]-original_list[i])\n",
    "    except:\n",
    "        break\n",
    "print(difference_list)"
   ]
  },
  {
   "cell_type": "markdown",
   "id": "fc442b63",
   "metadata": {},
   "source": [
    "### 6. Write a Python program to get the frequency of the elements in a given list of lists.Original list of lists: [[1, 2, 3, 2], [4, 5, 6, 2], [7, 8, 9, 5]]. Frequency of the elements in the said list of lists:{1: 1, 2: 3, 3: 1, 4: 1, 5: 2, 6: 1, 7: 1, 8: 1, 9: 1}\n"
   ]
  },
  {
   "cell_type": "code",
   "execution_count": 16,
   "id": "b585a91e",
   "metadata": {},
   "outputs": [],
   "source": [
    "original_list =  [[1, 2, 3, 2], [4, 5, 6, 2], [7, 8, 9, 5]]"
   ]
  },
  {
   "cell_type": "code",
   "execution_count": 17,
   "id": "b8031008",
   "metadata": {},
   "outputs": [],
   "source": [
    "frequency={}\n",
    "for item in original_list:\n",
    "    for ele in item:\n",
    "        if ele in frequency:\n",
    "            frequency[ele] +=1\n",
    "        else:\n",
    "            frequency[ele]=1\n",
    "    "
   ]
  },
  {
   "cell_type": "code",
   "execution_count": 18,
   "id": "f442be90",
   "metadata": {},
   "outputs": [
    {
     "data": {
      "text/plain": [
       "{1: 1, 2: 3, 3: 1, 4: 1, 5: 2, 6: 1, 7: 1, 8: 1, 9: 1}"
      ]
     },
     "execution_count": 18,
     "metadata": {},
     "output_type": "execute_result"
    }
   ],
   "source": [
    "frequency"
   ]
  },
  {
   "cell_type": "markdown",
   "id": "d8f7ad94",
   "metadata": {},
   "source": [
    "### 7.Write a Python program to combine two lists into a dictionary, where the elements of the first one serve as the keys and the elements of the second"
   ]
  },
  {
   "cell_type": "code",
   "execution_count": 19,
   "id": "fada0b82",
   "metadata": {},
   "outputs": [],
   "source": [
    "list_1 = [1,2,3,4,5]\n",
    "list_2 = [6,7,8,9,10]"
   ]
  },
  {
   "cell_type": "code",
   "execution_count": 20,
   "id": "13756f28",
   "metadata": {},
   "outputs": [
    {
     "data": {
      "text/plain": [
       "{1: 6, 2: 7, 3: 8, 4: 9, 5: 10}"
      ]
     },
     "execution_count": 20,
     "metadata": {},
     "output_type": "execute_result"
    }
   ],
   "source": [
    "dict(zip(list_1,list_2))"
   ]
  },
  {
   "cell_type": "markdown",
   "id": "78d60907",
   "metadata": {},
   "source": [
    "### 8.Write a Python program to find the key of the maximum value in a dictionary.\n",
    "Sample Output:\n",
    "Original dictionary elements\n",
    "{'Theodore': 19, 'Roxanne': 22, 'Mathew': 21, 'Betty': 20}\n",
    "the maximum and minimum value of the said dictionary: \n",
    "('Roxanne', 'Theodore')\n"
   ]
  },
  {
   "cell_type": "code",
   "execution_count": 21,
   "id": "d90e613b",
   "metadata": {},
   "outputs": [],
   "source": [
    "original_dict_ele = {'Theodore': 19, 'Roxanne': 22, 'Mathew': 21, 'Betty': 20}"
   ]
  },
  {
   "cell_type": "code",
   "execution_count": 22,
   "id": "33fb7660",
   "metadata": {},
   "outputs": [
    {
     "data": {
      "text/plain": [
       "('Roxanne', 'Theodore')"
      ]
     },
     "execution_count": 22,
     "metadata": {},
     "output_type": "execute_result"
    }
   ],
   "source": [
    "(max(original_dict_ele, key=original_dict_ele.get),min(original_dict_ele, key=original_dict_ele.get))"
   ]
  },
  {
   "cell_type": "markdown",
   "id": "8fb49b7e",
   "metadata": {},
   "source": [
    "### 9.Write a Python program to construct the following pattern, using a nested for loop"
   ]
  },
  {
   "cell_type": "code",
   "execution_count": 23,
   "id": "c2a7ae36",
   "metadata": {},
   "outputs": [
    {
     "name": "stdout",
     "output_type": "stream",
     "text": [
      "*\n",
      "**\n",
      "***\n",
      "****\n",
      "*****\n",
      "****\n",
      "***\n",
      "**\n",
      "*\n"
     ]
    }
   ],
   "source": [
    "for i in range(1):\n",
    "    for j in range(1,10):\n",
    "        if j<=5:\n",
    "            print('*'*j)\n",
    "        else:\n",
    "            print('*'*(10-j))"
   ]
  },
  {
   "cell_type": "markdown",
   "id": "be94cce8",
   "metadata": {},
   "source": [
    "### 10. Write a Python program that prints all the numbers from 0 to 20 except the numbers in the given list [ 5, 6, 12, 15].Note : use the ‘continue' statement.\n"
   ]
  },
  {
   "cell_type": "code",
   "execution_count": 24,
   "id": "7026e1de",
   "metadata": {},
   "outputs": [],
   "source": [
    "exclude = [ 5, 6, 12, 15]"
   ]
  },
  {
   "cell_type": "code",
   "execution_count": 25,
   "id": "1389d4f9",
   "metadata": {},
   "outputs": [
    {
     "name": "stdout",
     "output_type": "stream",
     "text": [
      "0,1,2,3,4,7,8,9,10,11,13,14,16,17,18,19,20,"
     ]
    }
   ],
   "source": [
    "for item in range(21):\n",
    "    if item in exclude:\n",
    "        continue\n",
    "    print(item,end=',')"
   ]
  },
  {
   "cell_type": "markdown",
   "id": "e8ff538a",
   "metadata": {},
   "source": [
    "### 11 . Write a Program to count the number of vowels in a given string.Example:Input_string = ‘Hello World’Count_output = 3\n"
   ]
  },
  {
   "cell_type": "code",
   "execution_count": 26,
   "id": "f2bbe6e2",
   "metadata": {},
   "outputs": [],
   "source": [
    "input_string = 'Hello World'"
   ]
  },
  {
   "cell_type": "code",
   "execution_count": 27,
   "id": "810a51b0",
   "metadata": {},
   "outputs": [
    {
     "name": "stdout",
     "output_type": "stream",
     "text": [
      "3\n"
     ]
    }
   ],
   "source": [
    "vowels=['a','e','i','o','u']\n",
    "count_output=0\n",
    "for item in list(input_string):\n",
    "    if item in vowels:\n",
    "        count_output+=1\n",
    "print(count_output)"
   ]
  },
  {
   "cell_type": "markdown",
   "id": "7d67e114",
   "metadata": {},
   "source": [
    "### 12.Write a Python program to remove consecutive duplicates from a list.Original list:initial_input = [0, 0, 1, 2, 3, 4, 4, 5, 6, 6, 6, 7, 8, 9, 4, 4] . After removing consecutive duplicates:final_output = [0, 1, 2, 3, 4, 5, 6, 7, 8, 9, 4]\n"
   ]
  },
  {
   "cell_type": "code",
   "execution_count": 28,
   "id": "dd062d23",
   "metadata": {},
   "outputs": [
    {
     "name": "stdout",
     "output_type": "stream",
     "text": [
      "[0, 1, 2, 3, 4, 5, 6, 7, 8, 9, 4]\n"
     ]
    }
   ],
   "source": [
    "initial_input = [0, 0, 1, 2, 3, 4, 4, 5, 6, 6, 6, 7, 8, 9, 4, 4]\n",
    "final_output = []\n",
    "for i,item in enumerate(initial_input):\n",
    "    try:\n",
    "        if item == initial_input[i+1]:\n",
    "            continue\n",
    "        final_output.append(item)\n",
    "    except:\n",
    "        final_output.append(item)\n",
    "print(final_output)"
   ]
  },
  {
   "cell_type": "markdown",
   "id": "e56d422c",
   "metadata": {},
   "source": [
    "### 13.Write a Program to read a sample text file and count the words having length greater than or equal to 5."
   ]
  },
  {
   "cell_type": "code",
   "execution_count": 29,
   "id": "74b4451f",
   "metadata": {},
   "outputs": [
    {
     "name": "stdout",
     "output_type": "stream",
     "text": [
      "hello world! my name is Sandesh Timalsina. I am doing great.\n",
      "\n",
      "How about you?\n",
      "\n",
      "\n",
      "The number of words having length greater than or equal to 5 is:  7\n"
     ]
    }
   ],
   "source": [
    "word_count = 0\n",
    "with open('sample.txt','r') as sample_file:\n",
    "    for line in sample_file:\n",
    "        print(line)\n",
    "        words = line.split()\n",
    "        for item in words:\n",
    "            #removing periods from the word\n",
    "            item=item.replace('.','')\n",
    "            if len(item)>=5:\n",
    "                word_count +=1\n",
    "\n",
    "\n",
    "print('\\n')\n",
    "print(f\"The number of words having length greater than or equal to 5 is:  {word_count}\")"
   ]
  },
  {
   "cell_type": "markdown",
   "id": "a81cc487",
   "metadata": {},
   "source": [
    "### 14. Write a program to read a sample text file and Capitalize the each word and append it to the same file."
   ]
  },
  {
   "cell_type": "code",
   "execution_count": 30,
   "id": "195a215b",
   "metadata": {},
   "outputs": [
    {
     "name": "stdout",
     "output_type": "stream",
     "text": [
      "hello world! my name is Sandesh Timalsina. I am doing great.\n",
      "How about you?\n"
     ]
    }
   ],
   "source": [
    "with open('sample.txt','r+') as sample_file:\n",
    "    string=sample_file.read()\n",
    "    print(string)\n",
    "    #capitalizing each word\n",
    "    string = string.title()\n",
    "    \n",
    "    sample_file.write(string)\n",
    "    "
   ]
  },
  {
   "cell_type": "code",
   "execution_count": 31,
   "id": "04dc63a1",
   "metadata": {},
   "outputs": [
    {
     "name": "stdout",
     "output_type": "stream",
     "text": [
      "hello world! my name is Sandesh Timalsina. I am doing great.\n",
      "How about you?Hello World! My Name Is Sandesh Timalsina. I Am Doing Great.\n",
      "How About You?\n"
     ]
    }
   ],
   "source": [
    "with open('sample.txt','r+') as sample_file:\n",
    "    print(sample_file.read())"
   ]
  },
  {
   "cell_type": "markdown",
   "id": "6855c6cc",
   "metadata": {},
   "source": [
    "### 15.Write a function in Python that takes a normal .txt file path as an input and counts the word in a given list [ the, these, that, and]  and displays it. "
   ]
  },
  {
   "cell_type": "code",
   "execution_count": 32,
   "id": "09fcfd5b",
   "metadata": {},
   "outputs": [],
   "source": [
    "word_to_count = [ 'the', 'these', 'that', 'and']"
   ]
  },
  {
   "cell_type": "code",
   "execution_count": 33,
   "id": "a4601f1c",
   "metadata": {},
   "outputs": [
    {
     "name": "stdout",
     "output_type": "stream",
     "text": [
      "Once Upon a Time in Hollywood, also known as Quentin Tarantino's love letter to 1960s Los Angeles, is going into the 2020 Oscars as one of the most nominated films, racking up 10 mentions from the Film Academy.\n",
      "\n",
      "\n",
      "\n",
      "The film is one of the nine movies up for the the top prize of the night, best picture, and also received nods for best actor (Leonardo DiCaprio), supporting actor (Brad Pitt), director, original screenplay, cinematography, sound mixing, costume design, production design and sound editing.\n",
      "\n",
      "\n",
      "\n",
      "Once Upon a Time follows actor Rick Dalton (DiCaprio) and his stuntman Cliff Booth (Pitt), nearing the end of their careers, struggling to find meaningful work in a fast-changing 1969 Hollywood. Rick gained fame and fortune by starring in a 1950s TV Western called Bounty Law, which he left behind to try to pursue a film career, only to find he doesn't recognize the industry around him anymore. His struggles become even more prominent when director Roman Polanski (played by Rafal Zawierucha) and his new wife, up-and-coming actress Sharon Tate (Margot Robbie), move in next door to him at the end of Cielo Drive.\n",
      "\n",
      "\n",
      "\n",
      "From an inside look at how Tarantino is on set to the fate of Rick's career after the film and a look at the main character's mental health, here are 10 behind the scenes facts about the pic, including some spoilers.  \n",
      "\n",
      "\n",
      "The total count of list [ the, these, that, and] in the text file is : 21 \n"
     ]
    }
   ],
   "source": [
    "count=0\n",
    "with open('normal.txt','r') as normal_text:\n",
    "    for line in normal_text:\n",
    "        print(line)\n",
    "        for item in line.split():\n",
    "            if item in word_to_count:\n",
    "                count+=1\n",
    "print('\\n')\n",
    "print(f\"The total count of list [ the, these, that, and] in the text file is : {count} \")"
   ]
  },
  {
   "cell_type": "markdown",
   "id": "da4b83a5",
   "metadata": {},
   "source": [
    "### 16.Map, Filter, Reduce Question:  Given a list of strings fruits as shown below:fruits = [\"Apple\", \"Banana\", \"Pear\", \"Apricot\", \"Orange\"]. \n",
    "### a.Change each of the words to uppercase using map function\n",
    "### b.Filter out the words starting with ‘A’ using filter functionality\n",
    "### c.Concat all words using reduce"
   ]
  },
  {
   "cell_type": "code",
   "execution_count": 34,
   "id": "1e16a1b8",
   "metadata": {},
   "outputs": [],
   "source": [
    "fruits = [\"Apple\", \"Banana\", \"Pear\", \"Apricot\", \"Orange\"]"
   ]
  },
  {
   "cell_type": "code",
   "execution_count": 35,
   "id": "1aef1d23",
   "metadata": {},
   "outputs": [
    {
     "data": {
      "text/plain": [
       "['APPLE', 'BANANA', 'PEAR', 'APRICOT', 'ORANGE']"
      ]
     },
     "execution_count": 35,
     "metadata": {},
     "output_type": "execute_result"
    }
   ],
   "source": [
    "list(map(str.upper , fruits))"
   ]
  },
  {
   "cell_type": "code",
   "execution_count": null,
   "id": "8c3c97b0",
   "metadata": {},
   "outputs": [],
   "source": []
  },
  {
   "cell_type": "code",
   "execution_count": 36,
   "id": "d55f2c40",
   "metadata": {},
   "outputs": [
    {
     "data": {
      "text/plain": [
       "['Apple', 'Apricot']"
      ]
     },
     "execution_count": 36,
     "metadata": {},
     "output_type": "execute_result"
    }
   ],
   "source": [
    "list(filter(lambda x: list(x)[0]=='A',fruits))"
   ]
  },
  {
   "cell_type": "code",
   "execution_count": null,
   "id": "833fce6a",
   "metadata": {},
   "outputs": [],
   "source": []
  },
  {
   "cell_type": "code",
   "execution_count": 37,
   "id": "463ad268",
   "metadata": {},
   "outputs": [
    {
     "data": {
      "text/plain": [
       "'AppleBananaPearApricotOrange'"
      ]
     },
     "execution_count": 37,
     "metadata": {},
     "output_type": "execute_result"
    }
   ],
   "source": [
    "from functools import reduce\n",
    "reduce(lambda x,y: x+y , fruits)"
   ]
  }
 ],
 "metadata": {
  "kernelspec": {
   "display_name": "Python 3 (ipykernel)",
   "language": "python",
   "name": "python3"
  },
  "language_info": {
   "codemirror_mode": {
    "name": "ipython",
    "version": 3
   },
   "file_extension": ".py",
   "mimetype": "text/x-python",
   "name": "python",
   "nbconvert_exporter": "python",
   "pygments_lexer": "ipython3",
   "version": "3.8.5"
  }
 },
 "nbformat": 4,
 "nbformat_minor": 5
}
