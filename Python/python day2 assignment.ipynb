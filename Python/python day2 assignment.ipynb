{
 "cells": [
  {
   "cell_type": "markdown",
   "id": "a1a32e57",
   "metadata": {},
   "source": [
    "# Day 2 Assignment"
   ]
  },
  {
   "cell_type": "markdown",
   "id": "66d95626",
   "metadata": {},
   "source": [
    "### 1. Create generator with and without comprehension for getting multiples of given number upto 10.Eg. generator(5) =>> 5, 10, 15 …. 50\n"
   ]
  },
  {
   "cell_type": "code",
   "execution_count": 1,
   "id": "5c304314",
   "metadata": {},
   "outputs": [
    {
     "name": "stdout",
     "output_type": "stream",
     "text": [
      "5,10,15,20,25,30,35,40,45,50,"
     ]
    }
   ],
   "source": [
    "def generator(max):\n",
    "    i=1\n",
    "    while(True):\n",
    "        yield i*max\n",
    "        i+=1\n",
    "        if(i>10): \n",
    "            return\n",
    "\n",
    "for i in generator(5):\n",
    "    print(i,end=',')"
   ]
  },
  {
   "cell_type": "markdown",
   "id": "3d2e1fcc",
   "metadata": {},
   "source": [
    "##### Simple we can also use range() which is  a built-in generator"
   ]
  },
  {
   "cell_type": "code",
   "execution_count": 2,
   "id": "7a7bf333",
   "metadata": {},
   "outputs": [
    {
     "name": "stdout",
     "output_type": "stream",
     "text": [
      "5,10,15,20,25,30,35,40,45,50,"
     ]
    }
   ],
   "source": [
    "for item in range(1,11):\n",
    "    print(item*5,end=',')"
   ]
  },
  {
   "cell_type": "code",
   "execution_count": 3,
   "id": "edb61a00",
   "metadata": {},
   "outputs": [
    {
     "name": "stdout",
     "output_type": "stream",
     "text": [
      "5,10,15,20,25,30,35,40,45,50,"
     ]
    }
   ],
   "source": [
    "for item in range(5,51,5):\n",
    "    print(item,end=',')"
   ]
  },
  {
   "cell_type": "markdown",
   "id": "d9512938",
   "metadata": {},
   "source": [
    "#### Using generator with list comprehension"
   ]
  },
  {
   "cell_type": "code",
   "execution_count": 4,
   "id": "bf98f23e",
   "metadata": {},
   "outputs": [
    {
     "data": {
      "text/plain": [
       "[5, 10, 15, 20, 25, 30, 35, 40, 45, 50]"
      ]
     },
     "execution_count": 4,
     "metadata": {},
     "output_type": "execute_result"
    }
   ],
   "source": [
    "[i*5 for i in range(1,11)]"
   ]
  },
  {
   "cell_type": "markdown",
   "id": "98315a03",
   "metadata": {},
   "source": [
    "#### Using generastor with tuple comprehension"
   ]
  },
  {
   "cell_type": "code",
   "execution_count": 5,
   "id": "82066306",
   "metadata": {},
   "outputs": [
    {
     "data": {
      "text/plain": [
       "(5, 10, 15, 20, 25, 30, 35, 40, 45, 50)"
      ]
     },
     "execution_count": 5,
     "metadata": {},
     "output_type": "execute_result"
    }
   ],
   "source": [
    "tuple(i*5 for i in range(1,11))"
   ]
  },
  {
   "cell_type": "markdown",
   "id": "0b217fee",
   "metadata": {},
   "source": [
    "### 2.Create a scenario where the following errors are handled:\n",
    "####  a) Custom Error implemented using class\n",
    "#### b)Custom Error using Exception or BaseException class using message to handle at least two of the cases.\n",
    "#### c)The full-fledged case for exception handling using try, except, else, finally"
   ]
  },
  {
   "cell_type": "markdown",
   "id": "01a41681",
   "metadata": {},
   "source": [
    "#### a)"
   ]
  },
  {
   "cell_type": "code",
   "execution_count": 6,
   "id": "f1b4bde0",
   "metadata": {},
   "outputs": [
    {
     "name": "stdout",
     "output_type": "stream",
     "text": [
      "Enter a number: 4\n",
      "This value is too small, try again!\n",
      "\n",
      "Enter a number: 7\n",
      "This value is too large, try again!\n",
      "\n",
      "Enter a number: 5\n",
      "Congratulations! You guessed it correctly.\n"
     ]
    }
   ],
   "source": [
    "# Defining a user-definer python exception \n",
    "class Error(Exception):\n",
    "    \"\"\"Base class for other exceptions\"\"\"\n",
    "    pass\n",
    "\n",
    "\n",
    "class ValueTooSmallError(Error):\n",
    "    \"\"\"Raised when the input value is too small\"\"\"\n",
    "    pass\n",
    "\n",
    "\n",
    "class ValueTooLargeError(Error):\n",
    "    \"\"\"Raised when the input value is too large\"\"\"\n",
    "    pass\n",
    "\n",
    "\n",
    "# The number we need to guess\n",
    "num = 5\n",
    "\n",
    "# user guesses a number until they gets it right\n",
    "while True:\n",
    "    try:\n",
    "        i_num = int(input(\"Enter a number: \"))\n",
    "        if i_num < num:\n",
    "            raise ValueTooSmallError\n",
    "        elif i_num > num:\n",
    "            raise ValueTooLargeError\n",
    "        break\n",
    "    except ValueTooSmallError:\n",
    "        print(\"This value is too small, try again!\")\n",
    "        print()\n",
    "    except ValueTooLargeError:\n",
    "        print(\"This value is too large, try again!\")\n",
    "        print()\n",
    "\n",
    "print(\"Congratulations! You guessed it correctly.\")"
   ]
  },
  {
   "cell_type": "markdown",
   "id": "2c801158",
   "metadata": {},
   "source": [
    "#### b)"
   ]
  },
  {
   "cell_type": "code",
   "execution_count": 7,
   "id": "0565cc4d",
   "metadata": {},
   "outputs": [],
   "source": [
    "class DemoException(Exception):\n",
    "    def __init__(self, message):\n",
    "        super().__init__(message)\n",
    "\n",
    "class ZeroDivExp(Exception):\n",
    "    def __init__(self,message,value):\n",
    "        message = f'{value} is zero, please dont divide a number with zero'\n",
    "        super().__init__(message)\n",
    "        \n",
    "        \n",
    "class NumberFormatException(Exception):\n",
    "    def __init__(self, message, value):\n",
    "        message = f'{value} is not a number'\n",
    "        super().__init__(message)\n",
    "\n",
    "\n",
    "\n",
    "message = \"Exception occured.\"\n",
    "\n",
    "def triggerException_1(num):\n",
    "    if (not num.isdigit()):\n",
    "        raise NumberFormatException(message, num)\n",
    "        pass\n",
    "    elif (num == 0):\n",
    "        raise DemoException(message)\n",
    "    else:\n",
    "        print(num)\n",
    "\n",
    "\n",
    "def triggerException_2(num):\n",
    "    if num == 0 :\n",
    "        raise ZeroDivExp(message , num)\n",
    "    pass\n",
    "\n"
   ]
  },
  {
   "cell_type": "code",
   "execution_count": 8,
   "id": "ab8eafbc",
   "metadata": {},
   "outputs": [
    {
     "name": "stdout",
     "output_type": "stream",
     "text": [
      "hello world is not a number.\n"
     ]
    }
   ],
   "source": [
    "num = 'hello world'\n",
    "try:\n",
    "    triggerException_1(num)\n",
    "    print(\"Code executed sucessfully.\")\n",
    "except DemoException:\n",
    "    print(\"Error: Number should not be 0.\")\n",
    "except NumberFormatException:\n",
    "    print(num+\" is not a number.\")"
   ]
  },
  {
   "cell_type": "code",
   "execution_count": 9,
   "id": "dc48723a",
   "metadata": {},
   "outputs": [
    {
     "name": "stdout",
     "output_type": "stream",
     "text": [
      "Error: number 2 should not be 0.\n"
     ]
    }
   ],
   "source": [
    "num1=10\n",
    "num2=0\n",
    "try:\n",
    "    triggerException_2(num2)\n",
    "    print(\"Code executed sucessfully.\")\n",
    "except ZeroDivExp:\n",
    "    print(\"Error: number 2 should not be 0.\")"
   ]
  },
  {
   "cell_type": "markdown",
   "id": "cbac720d",
   "metadata": {},
   "source": [
    "#### c)"
   ]
  },
  {
   "cell_type": "code",
   "execution_count": 10,
   "id": "511d013d",
   "metadata": {},
   "outputs": [
    {
     "name": "stdout",
     "output_type": "stream",
     "text": [
      "division by zero error\n",
      "Thank you\n",
      "\n",
      "Division ran sucessfully, ANS:0.2\n",
      "Thank you\n"
     ]
    }
   ],
   "source": [
    "def division(a,b):\n",
    "    try:\n",
    "        res = a/b\n",
    "    except ZeroDivisionError as e:\n",
    "        print(str(e)+\" error\")\n",
    "    else:\n",
    "        print(f\"Division ran sucessfully, ANS:{res}\")\n",
    "    finally:\n",
    "        print('Thank you')\n",
    "\n",
    "division(2,0)\n",
    "print('')\n",
    "division(2,10)\n",
    "        "
   ]
  },
  {
   "cell_type": "markdown",
   "id": "296943b8",
   "metadata": {},
   "source": [
    "### 3. Create at least 4 classes having semantic meaning (having relation to each other) so that multiple inheritance can be achieved and incorporating the following things in some of them:\n",
    "##### a)@classmethod \n",
    "##### b)@staticmethod\n",
    "##### c)@property and setter for it\n",
    "##### d)Class_variable\n"
   ]
  },
  {
   "cell_type": "code",
   "execution_count": 11,
   "id": "15b789b3",
   "metadata": {},
   "outputs": [],
   "source": [
    "from datetime import datetime"
   ]
  },
  {
   "cell_type": "code",
   "execution_count": 12,
   "id": "af334a1b",
   "metadata": {},
   "outputs": [],
   "source": [
    "class Machine:\n",
    "    '''Includes all kind of Machine'''\n",
    "    def __init__(self,types):\n",
    "        self.types=types\n",
    "\n",
    "class Vehicles(Machine):\n",
    "    '''Includes only Vehicles Machine'''\n",
    "    def __init__(self,types,cc,engine,manufacture_date):\n",
    "        self.types=types\n",
    "        self.cc=cc\n",
    "        self.engine=engine\n",
    "        self.manufacture_date=manufacture_date\n",
    "    \n",
    "    @property\n",
    "    def description(self):\n",
    "        return \"It is of type \"+ str(self.types) +\".It has an \"+str(self.engine)+\"engine of\"+str(self.cc)+\"cc.\"\n",
    "    \n",
    "    @description.setter\n",
    "    def description(self, description):\n",
    "        self.types,self.cc,self.engine = description.split(',')\n",
    "    \n",
    "    @staticmethod\n",
    "    def isExpensive(price):\n",
    "        if price>10000000:\n",
    "            return True\n",
    "        else:\n",
    "            return False\n",
    "    \n",
    "    @classmethod \n",
    "    def fromAge(self, types,cc,engine,age):\n",
    "        return self(types,cc,engine,int(datetime.now().year)-int(age))\n",
    "    \n",
    "class Car(Vehicles):\n",
    "    '''Includes only Car'''\n",
    "    wheels = 4\n",
    "    def __init__(self,airbags,types,cc,engine,manufacture_date):\n",
    "        super().__init__(types,cc,engine,manufacture_date)\n",
    "        self.airbags =airbags\n",
    "    \n",
    "    @property\n",
    "    def description(self):\n",
    "        return \"It is of type \"+ str(self.types) +\".It has an \"+str(self.engine)+\"engine of\"+str(self.cc)+\"cc.The number of airbags are \"+str(self.airbags)\n",
    "          \n",
    "    \n",
    "class MoterBike(Vehicles):\n",
    "    '''Includes only Bike'''\n",
    "    wheels = 2\n",
    "    def __init__(self , rear_brake,types,cc,engine,manufacture_date):\n",
    "        super().__init__(types,cc,engine,manufacture_date)\n",
    "        self.rear_brake = rear_brake\n",
    "    "
   ]
  },
  {
   "cell_type": "code",
   "execution_count": 13,
   "id": "5dfe4951",
   "metadata": {},
   "outputs": [
    {
     "data": {
      "text/plain": [
       "<__main__.Machine at 0x2abb33da6d0>"
      ]
     },
     "execution_count": 13,
     "metadata": {},
     "output_type": "execute_result"
    }
   ],
   "source": [
    "Machine('vehicle')"
   ]
  },
  {
   "cell_type": "code",
   "execution_count": 14,
   "id": "fd50babc",
   "metadata": {},
   "outputs": [
    {
     "data": {
      "text/plain": [
       "<__main__.Vehicles at 0x2abb33f9790>"
      ]
     },
     "execution_count": 14,
     "metadata": {},
     "output_type": "execute_result"
    }
   ],
   "source": [
    "Vehicles('sports',1500 , 'v8',2015)"
   ]
  },
  {
   "cell_type": "code",
   "execution_count": 15,
   "id": "52271b8d",
   "metadata": {},
   "outputs": [],
   "source": [
    "c = Car(4 ,'sports',7000,'v10',2021)"
   ]
  },
  {
   "cell_type": "code",
   "execution_count": 16,
   "id": "65ecd2b4",
   "metadata": {},
   "outputs": [
    {
     "data": {
      "text/plain": [
       "('sports', 4, 7000, 'v10', 2021)"
      ]
     },
     "execution_count": 16,
     "metadata": {},
     "output_type": "execute_result"
    }
   ],
   "source": [
    "c.types,c.airbags,c.cc,c.engine,c.manufacture_date"
   ]
  },
  {
   "cell_type": "markdown",
   "id": "4690f0b5",
   "metadata": {},
   "source": [
    "Using class variables(below)"
   ]
  },
  {
   "cell_type": "code",
   "execution_count": 17,
   "id": "3a510544",
   "metadata": {},
   "outputs": [
    {
     "data": {
      "text/plain": [
       "4"
      ]
     },
     "execution_count": 17,
     "metadata": {},
     "output_type": "execute_result"
    }
   ],
   "source": [
    "c.wheels"
   ]
  },
  {
   "cell_type": "code",
   "execution_count": 18,
   "id": "e14e896d",
   "metadata": {},
   "outputs": [
    {
     "data": {
      "text/plain": [
       "4"
      ]
     },
     "execution_count": 18,
     "metadata": {},
     "output_type": "execute_result"
    }
   ],
   "source": [
    "Car.wheels"
   ]
  },
  {
   "cell_type": "markdown",
   "id": "1f2efd17",
   "metadata": {},
   "source": [
    "Using @classmethod as factory (below)"
   ]
  },
  {
   "cell_type": "code",
   "execution_count": 19,
   "id": "5e5a5610",
   "metadata": {},
   "outputs": [],
   "source": [
    "v=Vehicles.fromAge('sports',1500 , 'v8',15)"
   ]
  },
  {
   "cell_type": "code",
   "execution_count": 20,
   "id": "00bc62be",
   "metadata": {},
   "outputs": [
    {
     "data": {
      "text/plain": [
       "2006"
      ]
     },
     "execution_count": 20,
     "metadata": {},
     "output_type": "execute_result"
    }
   ],
   "source": [
    "v.manufacture_date"
   ]
  },
  {
   "cell_type": "markdown",
   "id": "a46b3dbf",
   "metadata": {},
   "source": [
    "Using @property (below )"
   ]
  },
  {
   "cell_type": "code",
   "execution_count": 21,
   "id": "532ed17a",
   "metadata": {},
   "outputs": [
    {
     "data": {
      "text/plain": [
       "'It is of type sports.It has an v10engine of7000cc.The number of airbags are 4'"
      ]
     },
     "execution_count": 21,
     "metadata": {},
     "output_type": "execute_result"
    }
   ],
   "source": [
    "c.description"
   ]
  },
  {
   "cell_type": "code",
   "execution_count": 22,
   "id": "d7575b2c",
   "metadata": {},
   "outputs": [
    {
     "data": {
      "text/plain": [
       "4"
      ]
     },
     "execution_count": 22,
     "metadata": {},
     "output_type": "execute_result"
    }
   ],
   "source": [
    "c.airbags "
   ]
  },
  {
   "cell_type": "markdown",
   "id": "13182966",
   "metadata": {},
   "source": [
    "Using @staticmethod (below)"
   ]
  },
  {
   "cell_type": "code",
   "execution_count": 23,
   "id": "f8630c24",
   "metadata": {},
   "outputs": [
    {
     "data": {
      "text/plain": [
       "False"
      ]
     },
     "execution_count": 23,
     "metadata": {},
     "output_type": "execute_result"
    }
   ],
   "source": [
    "c.isExpensive(10000)"
   ]
  },
  {
   "cell_type": "markdown",
   "id": "db3c50b3",
   "metadata": {},
   "source": [
    "### 4.Create a class for complex number implementing all the arithmetic operations and relational operations related dunder methods. Eg. __add__, __iadd__, __mult__, __eq__, __lt__"
   ]
  },
  {
   "cell_type": "code",
   "execution_count": 24,
   "id": "5f5db036",
   "metadata": {},
   "outputs": [],
   "source": [
    "class Complex(object):\n",
    "    def __init__(self, real , imag):\n",
    "        self.real = real\n",
    "        self.imag = imag\n",
    "        \n",
    "    def __str__(self):\n",
    "        '''Returns the complex number as string '''\n",
    "        #print('hello')\n",
    "        return '(%s, %s)' % (self.real, self.imag)\n",
    "    \n",
    "    def __add__(self,other):\n",
    "        '''Adds the complex number'''\n",
    "        return Complex(self.real + other.real , self.imag +other.imag)\n",
    "    \n",
    "    def __sub__(self,other):\n",
    "        '''Subtracts the complex number'''\n",
    "        return Complex(self.real-other.real ,self.imag-other.imag)\n",
    "    \n",
    "    def __mul__(self,other):\n",
    "        '''Multiplies the complex number '''\n",
    "        return Complex(self.real * other.real , self.imag*other.imag)\n",
    "    \n",
    "    def __eq__(self, other):\n",
    "        return self.real == other.real and self.imag == other.imag\n",
    "  "
   ]
  },
  {
   "cell_type": "code",
   "execution_count": 25,
   "id": "99a75899",
   "metadata": {},
   "outputs": [],
   "source": [
    "a=Complex(3,5j)"
   ]
  },
  {
   "cell_type": "code",
   "execution_count": 26,
   "id": "94872808",
   "metadata": {},
   "outputs": [],
   "source": [
    "b= Complex(1,5j)"
   ]
  },
  {
   "cell_type": "markdown",
   "id": "30dee4e9",
   "metadata": {},
   "source": [
    "Complex number addition"
   ]
  },
  {
   "cell_type": "code",
   "execution_count": 27,
   "id": "2e5d96e8",
   "metadata": {},
   "outputs": [
    {
     "name": "stdout",
     "output_type": "stream",
     "text": [
      "(4, 10j)\n"
     ]
    }
   ],
   "source": [
    "print(a+b)"
   ]
  },
  {
   "cell_type": "markdown",
   "id": "6f950eef",
   "metadata": {},
   "source": [
    "Complex number Subtraction"
   ]
  },
  {
   "cell_type": "code",
   "execution_count": 28,
   "id": "fc3ce117",
   "metadata": {},
   "outputs": [
    {
     "name": "stdout",
     "output_type": "stream",
     "text": [
      "(2, 0j)\n"
     ]
    }
   ],
   "source": [
    "print(a-b)"
   ]
  },
  {
   "cell_type": "markdown",
   "id": "b8b8aa72",
   "metadata": {},
   "source": [
    "Multiplication"
   ]
  },
  {
   "cell_type": "code",
   "execution_count": 29,
   "id": "dc0913e9",
   "metadata": {},
   "outputs": [
    {
     "name": "stdout",
     "output_type": "stream",
     "text": [
      "(3, (-25+0j))\n"
     ]
    }
   ],
   "source": [
    "print(a*b)"
   ]
  },
  {
   "cell_type": "markdown",
   "id": "d65f5edd",
   "metadata": {},
   "source": [
    "Equating"
   ]
  },
  {
   "cell_type": "code",
   "execution_count": 30,
   "id": "7cc54c3e",
   "metadata": {},
   "outputs": [
    {
     "name": "stdout",
     "output_type": "stream",
     "text": [
      "False\n"
     ]
    }
   ],
   "source": [
    "print(a == b)"
   ]
  },
  {
   "cell_type": "code",
   "execution_count": 35,
   "id": "e9bd7f3b",
   "metadata": {},
   "outputs": [],
   "source": [
    "import numpy as np\n",
    "\n",
    "class CustomComplex(complex):\n",
    "    def __lt__(self, other):\n",
    "        return np.abs(self) < np.abs(other)\n",
    "    def __le__(self, other):\n",
    "        return np.abs(self) <= np.abs(other)\n",
    "    def __eq__(self, other):\n",
    "        return np.abs(self) == np.abs(other)\n",
    "    def __ne__(self, other):\n",
    "        return np.abs(self) != np.abs(other)\n",
    "    def __gt__(self, other):\n",
    "        return np.abs(self) > np.abs(other)\n",
    "    def __ge__(self, other):\n",
    "        return np.abs(self) >= np.abs(other)"
   ]
  },
  {
   "cell_type": "code",
   "execution_count": 36,
   "id": "cb6bbbf6",
   "metadata": {},
   "outputs": [],
   "source": [
    "a=CustomComplex(3,5j)"
   ]
  },
  {
   "cell_type": "code",
   "execution_count": 37,
   "id": "2d9792f2",
   "metadata": {},
   "outputs": [],
   "source": [
    "b=CustomComplex(1,4j)"
   ]
  },
  {
   "cell_type": "markdown",
   "id": "07fbc229",
   "metadata": {},
   "source": [
    "Complex number comparision"
   ]
  },
  {
   "cell_type": "code",
   "execution_count": 38,
   "id": "d990c8a2",
   "metadata": {},
   "outputs": [
    {
     "data": {
      "text/plain": [
       "True"
      ]
     },
     "execution_count": 38,
     "metadata": {},
     "output_type": "execute_result"
    }
   ],
   "source": [
    "a<b"
   ]
  },
  {
   "cell_type": "code",
   "execution_count": 39,
   "id": "eeca480d",
   "metadata": {},
   "outputs": [
    {
     "data": {
      "text/plain": [
       "False"
      ]
     },
     "execution_count": 39,
     "metadata": {},
     "output_type": "execute_result"
    }
   ],
   "source": [
    "a>b"
   ]
  },
  {
   "cell_type": "code",
   "execution_count": 40,
   "id": "5b3a1b9e",
   "metadata": {},
   "outputs": [
    {
     "data": {
      "text/plain": [
       "False"
      ]
     },
     "execution_count": 40,
     "metadata": {},
     "output_type": "execute_result"
    }
   ],
   "source": [
    "a==b"
   ]
  }
 ],
 "metadata": {
  "kernelspec": {
   "display_name": "Python 3 (ipykernel)",
   "language": "python",
   "name": "python3"
  },
  "language_info": {
   "codemirror_mode": {
    "name": "ipython",
    "version": 3
   },
   "file_extension": ".py",
   "mimetype": "text/x-python",
   "name": "python",
   "nbconvert_exporter": "python",
   "pygments_lexer": "ipython3",
   "version": "3.8.5"
  }
 },
 "nbformat": 4,
 "nbformat_minor": 5
}
