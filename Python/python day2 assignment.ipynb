{
 "cells": [
  {
   "cell_type": "markdown",
   "id": "22767888",
   "metadata": {},
   "source": [
    "# Day 2 Assignment"
   ]
  },
  {
   "cell_type": "markdown",
   "id": "3f76a798",
   "metadata": {},
   "source": [
    "### 1. Create generator with and without comprehension for getting multiples of given number upto 10.Eg. generator(5) =>> 5, 10, 15 …. 50\n"
   ]
  },
  {
   "cell_type": "code",
   "execution_count": 1,
   "id": "51a4b454",
   "metadata": {},
   "outputs": [
    {
     "name": "stdout",
     "output_type": "stream",
     "text": [
      "5,10,15,20,25,30,35,40,45,50,"
     ]
    }
   ],
   "source": [
    "def generator(max):\n",
    "    i=1\n",
    "    while(True):\n",
    "        yield i*max\n",
    "        i+=1\n",
    "        if(i>10): \n",
    "            return\n",
    "\n",
    "for i in generator(5):\n",
    "    print(i,end=',')"
   ]
  },
  {
   "cell_type": "markdown",
   "id": "f52a0738",
   "metadata": {},
   "source": [
    "##### Simple we can also use range() which is  a built-in generator"
   ]
  },
  {
   "cell_type": "code",
   "execution_count": 2,
   "id": "b046e813",
   "metadata": {},
   "outputs": [
    {
     "name": "stdout",
     "output_type": "stream",
     "text": [
      "5,10,15,20,25,30,35,40,45,50,"
     ]
    }
   ],
   "source": [
    "for item in range(1,11):\n",
    "    print(item*5,end=',')"
   ]
  },
  {
   "cell_type": "code",
   "execution_count": 3,
   "id": "8429240e",
   "metadata": {},
   "outputs": [
    {
     "name": "stdout",
     "output_type": "stream",
     "text": [
      "5,10,15,20,25,30,35,40,45,50,"
     ]
    }
   ],
   "source": [
    "for item in range(5,51,5):\n",
    "    print(item,end=',')"
   ]
  },
  {
   "cell_type": "markdown",
   "id": "9706d1ef",
   "metadata": {},
   "source": [
    "#### Using generator with list comprehension"
   ]
  },
  {
   "cell_type": "code",
   "execution_count": 4,
   "id": "06600c6f",
   "metadata": {},
   "outputs": [
    {
     "data": {
      "text/plain": [
       "[5, 10, 15, 20, 25, 30, 35, 40, 45, 50]"
      ]
     },
     "execution_count": 4,
     "metadata": {},
     "output_type": "execute_result"
    }
   ],
   "source": [
    "[i*5 for i in range(1,11)]"
   ]
  },
  {
   "cell_type": "markdown",
   "id": "d87c40f4",
   "metadata": {},
   "source": [
    "#### Using generastor with tuple comprehension"
   ]
  },
  {
   "cell_type": "code",
   "execution_count": 5,
   "id": "785ee0d0",
   "metadata": {},
   "outputs": [
    {
     "data": {
      "text/plain": [
       "(5, 10, 15, 20, 25, 30, 35, 40, 45, 50)"
      ]
     },
     "execution_count": 5,
     "metadata": {},
     "output_type": "execute_result"
    }
   ],
   "source": [
    "tuple(i*5 for i in range(1,11))"
   ]
  },
  {
   "cell_type": "markdown",
   "id": "4347e91d",
   "metadata": {},
   "source": [
    "### 2.Create a scenario where the following errors are handled:\n",
    "####  a) Custom Error implemented using class\n",
    "#### b)Custom Error using Exception or BaseException class using message to handle at least two of the cases.\n",
    "#### c)The full-fledged case for exception handling using try, except, else, finally"
   ]
  },
  {
   "cell_type": "markdown",
   "id": "a84e19ae",
   "metadata": {},
   "source": [
    "#### a)"
   ]
  },
  {
   "cell_type": "code",
   "execution_count": null,
   "id": "74522e30",
   "metadata": {},
   "outputs": [],
   "source": [
    "# Defining a user-definer python exception \n",
    "class Error(Exception):\n",
    "    \"\"\"Base class for other exceptions\"\"\"\n",
    "    pass\n",
    "\n",
    "\n",
    "class ValueTooSmallError(Error):\n",
    "    \"\"\"Raised when the input value is too small\"\"\"\n",
    "    pass\n",
    "\n",
    "\n",
    "class ValueTooLargeError(Error):\n",
    "    \"\"\"Raised when the input value is too large\"\"\"\n",
    "    pass\n",
    "\n",
    "\n",
    "# The number we need to guess\n",
    "num = 5\n",
    "\n",
    "# user guesses a number until they gets it right\n",
    "while True:\n",
    "    try:\n",
    "        i_num = int(input(\"Enter a number: \"))\n",
    "        if i_num < num:\n",
    "            raise ValueTooSmallError\n",
    "        elif i_num > num:\n",
    "            raise ValueTooLargeError\n",
    "        break\n",
    "    except ValueTooSmallError:\n",
    "        print(\"This value is too small, try again!\")\n",
    "        print()\n",
    "    except ValueTooLargeError:\n",
    "        print(\"This value is too large, try again!\")\n",
    "        print()\n",
    "\n",
    "print(\"Congratulations! You guessed it correctly.\")"
   ]
  },
  {
   "cell_type": "markdown",
   "id": "4c364112",
   "metadata": {},
   "source": [
    "#### b)"
   ]
  },
  {
   "cell_type": "code",
   "execution_count": null,
   "id": "8b3f0cd0",
   "metadata": {},
   "outputs": [],
   "source": [
    "class DemoException(Exception):\n",
    "    def __init__(self, message):\n",
    "        super().__init__(message)\n",
    "\n",
    "class ZeroDivExp(Exception):\n",
    "    def __init__(self,message,value):\n",
    "        message = f'{value} is zero, please dont divide a number with zero'\n",
    "        super().__init__(message)\n",
    "        \n",
    "        \n",
    "class NumberFormatException(Exception):\n",
    "    def __init__(self, message, value):\n",
    "        message = f'{value} is not a number'\n",
    "        super().__init__(message)\n",
    "\n",
    "\n",
    "\n",
    "message = \"Exception occured.\"\n",
    "\n",
    "def triggerException_1(num):\n",
    "    if (not num.isdigit()):\n",
    "        raise NumberFormatException(message, num)\n",
    "        pass\n",
    "    elif (num == 0):\n",
    "        raise DemoException(message)\n",
    "    else:\n",
    "        print(num)\n",
    "\n",
    "\n",
    "def triggerException_2(num):\n",
    "    if num == 0 :\n",
    "        raise ZeroDivExp(message , num)\n",
    "    pass\n",
    "\n"
   ]
  },
  {
   "cell_type": "code",
   "execution_count": null,
   "id": "a2988e6f",
   "metadata": {},
   "outputs": [],
   "source": [
    "num = 'hello world'\n",
    "try:\n",
    "    triggerException_1(num)\n",
    "    print(\"Code executed sucessfully.\")\n",
    "except DemoException:\n",
    "    print(\"Error: Number should not be 0.\")\n",
    "except NumberFormatException:\n",
    "    print(num+\" is not a number.\")"
   ]
  },
  {
   "cell_type": "code",
   "execution_count": null,
   "id": "1f134203",
   "metadata": {},
   "outputs": [],
   "source": [
    "num1=10\n",
    "num2=0\n",
    "try:\n",
    "    triggerException_2(num2)\n",
    "    print(\"Code executed sucessfully.\")\n",
    "except ZeroDivExp:\n",
    "    print(\"Error: number 2 should not be 0.\")"
   ]
  },
  {
   "cell_type": "markdown",
   "id": "1fe16612",
   "metadata": {},
   "source": [
    "#### c)"
   ]
  },
  {
   "cell_type": "code",
   "execution_count": null,
   "id": "69904c7a",
   "metadata": {},
   "outputs": [],
   "source": [
    "def division(a,b):\n",
    "    try:\n",
    "        res = a/b\n",
    "    except ZeroDivisionError as e:\n",
    "        print(str(e)+\" error\")\n",
    "    else:\n",
    "        print(f\"Division ran sucessfully, ANS:{res}\")\n",
    "    finally:\n",
    "        print('Thank you')\n",
    "\n",
    "division(2,0)\n",
    "print('')\n",
    "division(2,10)\n",
    "        "
   ]
  },
  {
   "cell_type": "markdown",
   "id": "757b6de4",
   "metadata": {},
   "source": [
    "### 3. Create at least 4 classes having semantic meaning (having relation to each other) so that multiple inheritance can be achieved and incorporating the following things in some of them:\n",
    "##### a)@classmethod \n",
    "##### b)@staticmethod\n",
    "##### c)@property and setter for it\n",
    "##### d)Class_variable\n"
   ]
  },
  {
   "cell_type": "code",
   "execution_count": null,
   "id": "4780d967",
   "metadata": {},
   "outputs": [],
   "source": [
    "from datetime import datetime"
   ]
  },
  {
   "cell_type": "code",
   "execution_count": null,
   "id": "8c42e8d9",
   "metadata": {},
   "outputs": [],
   "source": [
    "class Machine:\n",
    "    '''Includes all kind of Machine'''\n",
    "    def __init__(self,types):\n",
    "        self.types=types\n",
    "\n",
    "class Vehicles(Machine):\n",
    "    '''Includes only Vehicles Machine'''\n",
    "    def __init__(self,types,cc,engine,manufacture_date):\n",
    "        self.types=types\n",
    "        self.cc=cc\n",
    "        self.engine=engine\n",
    "        self.manufacture_date=manufacture_date\n",
    "    \n",
    "    @property\n",
    "    def description(self):\n",
    "        return \"It is of type \"+ str(self.types) +\".It has an \"+str(self.engine)+\"engine of\"+str(self.cc)+\"cc.\"\n",
    "    \n",
    "    @description.setter\n",
    "    def description(self, description):\n",
    "        self.types,self.cc,self.engine = description.split(',')\n",
    "    \n",
    "    @staticmethod\n",
    "    def isExpensive(price):\n",
    "        if price>10000000:\n",
    "            return True\n",
    "        else:\n",
    "            return False\n",
    "    \n",
    "    @classmethod \n",
    "    def fromAge(self, types,cc,engine,age):\n",
    "        return self(types,cc,engine,int(datetime.now().year)-int(age))\n",
    "    \n",
    "class Car(Vehicles):\n",
    "    '''Includes only Car'''\n",
    "    wheels = 4\n",
    "    def __init__(self,airbags,types,cc,engine,manufacture_date):\n",
    "        super().__init__(types,cc,engine,manufacture_date)\n",
    "        self.airbags =airbags\n",
    "    \n",
    "    @property\n",
    "    def description(self):\n",
    "        return \"It is of type \"+ str(self.types) +\".It has an \"+str(self.engine)+\"engine of\"+str(self.cc)+\"cc.The number of airbags are \"+str(self.airbags)\n",
    "          \n",
    "    \n",
    "class MoterBike(Vehicles):\n",
    "    '''Includes only Bike'''\n",
    "    wheels = 2\n",
    "    def __init__(self , rear_brake,types,cc,engine,manufacture_date):\n",
    "        super().__init__(types,cc,engine,manufacture_date)\n",
    "        self.rear_brake = rear_brake\n",
    "    "
   ]
  },
  {
   "cell_type": "code",
   "execution_count": null,
   "id": "1945fcb7",
   "metadata": {},
   "outputs": [],
   "source": [
    "Machine('vehicle')"
   ]
  },
  {
   "cell_type": "code",
   "execution_count": null,
   "id": "29a9c7a6",
   "metadata": {},
   "outputs": [],
   "source": [
    "Vehicles('sports',1500 , 'v8',2015)"
   ]
  },
  {
   "cell_type": "code",
   "execution_count": null,
   "id": "84d6a3fc",
   "metadata": {},
   "outputs": [],
   "source": [
    "c = Car(4 ,'sports',7000,'v10',2021)"
   ]
  },
  {
   "cell_type": "code",
   "execution_count": null,
   "id": "7bdec289",
   "metadata": {},
   "outputs": [],
   "source": [
    "c.types,c.airbags,c.cc,c.engine,c.manufacture_date"
   ]
  },
  {
   "cell_type": "markdown",
   "id": "fd49f216",
   "metadata": {},
   "source": [
    "Using class variables(below)"
   ]
  },
  {
   "cell_type": "code",
   "execution_count": null,
   "id": "8907a3f0",
   "metadata": {},
   "outputs": [],
   "source": [
    "c.wheels"
   ]
  },
  {
   "cell_type": "code",
   "execution_count": null,
   "id": "f3669034",
   "metadata": {},
   "outputs": [],
   "source": [
    "Car.wheels"
   ]
  },
  {
   "cell_type": "markdown",
   "id": "f4d1c1ae",
   "metadata": {},
   "source": [
    "Using @classmethod as factory (below)"
   ]
  },
  {
   "cell_type": "code",
   "execution_count": null,
   "id": "7c6de3fe",
   "metadata": {},
   "outputs": [],
   "source": [
    "v=Vehicles.fromAge('sports',1500 , 'v8',15)"
   ]
  },
  {
   "cell_type": "code",
   "execution_count": null,
   "id": "ceb84784",
   "metadata": {},
   "outputs": [],
   "source": [
    "v.manufacture_date"
   ]
  },
  {
   "cell_type": "markdown",
   "id": "f33713e6",
   "metadata": {},
   "source": [
    "Using @property (below )"
   ]
  },
  {
   "cell_type": "code",
   "execution_count": null,
   "id": "6cae6a13",
   "metadata": {},
   "outputs": [],
   "source": [
    "d.description"
   ]
  },
  {
   "cell_type": "code",
   "execution_count": null,
   "id": "fc7fc42b",
   "metadata": {},
   "outputs": [],
   "source": [
    "c.description"
   ]
  },
  {
   "cell_type": "code",
   "execution_count": null,
   "id": "355d8c1b",
   "metadata": {},
   "outputs": [],
   "source": [
    "c.airbags "
   ]
  },
  {
   "cell_type": "markdown",
   "id": "b06c31ee",
   "metadata": {},
   "source": [
    "Using @staticmethod (below)"
   ]
  },
  {
   "cell_type": "code",
   "execution_count": null,
   "id": "3aeb0fa1",
   "metadata": {},
   "outputs": [],
   "source": [
    "c.isExpensive(10000)"
   ]
  },
  {
   "cell_type": "markdown",
   "id": "f88a4c1f",
   "metadata": {},
   "source": [
    "### 4.Create a class for complex number implementing all the arithmetic operations and relational operations related dunder methods. Eg. __add__, __iadd__, __mult__, __eq__, __lt__"
   ]
  },
  {
   "cell_type": "code",
   "execution_count": null,
   "id": "287f983b",
   "metadata": {},
   "outputs": [],
   "source": [
    "class Complex(object):\n",
    "    def __init__(self, real , imag):\n",
    "        self.real = real\n",
    "        self.imag = imag\n",
    "        \n",
    "    def __str__(self):\n",
    "        '''Returns the complex number as string '''\n",
    "        #print('hello')\n",
    "        return '(%s, %s)' % (self.real, self.imag)\n",
    "    \n",
    "    def __add__(self,other):\n",
    "        '''Adds the complex number'''\n",
    "        return Complex(self.real + other.real , self.imag +other.imag)\n",
    "    \n",
    "    def __sub__(self,other):\n",
    "        '''Subtracts the complex number'''\n",
    "        return Complex(self.real-other.real ,self.imag-other.imag)\n",
    "    \n",
    "    def __mul__(self,other):\n",
    "        '''Multiplies the complex number '''\n",
    "        return Complex(self.real * other.real , self.imag*other.imag)\n",
    "    \n",
    "    def __eq__(self, other):\n",
    "        return self.real == other.real and self.imag == other.imag\n",
    "  "
   ]
  },
  {
   "cell_type": "code",
   "execution_count": null,
   "id": "5de59696",
   "metadata": {},
   "outputs": [],
   "source": [
    "a=Complex(3,5j)"
   ]
  },
  {
   "cell_type": "code",
   "execution_count": null,
   "id": "ff7a3d8f",
   "metadata": {},
   "outputs": [],
   "source": [
    "b= Complex(1,5j)"
   ]
  },
  {
   "cell_type": "markdown",
   "id": "c230008d",
   "metadata": {},
   "source": [
    "Complex number addition"
   ]
  },
  {
   "cell_type": "code",
   "execution_count": null,
   "id": "24314d06",
   "metadata": {},
   "outputs": [],
   "source": [
    "print(a+b)"
   ]
  },
  {
   "cell_type": "markdown",
   "id": "269a12c5",
   "metadata": {},
   "source": [
    "Complex number Subtraction"
   ]
  },
  {
   "cell_type": "code",
   "execution_count": null,
   "id": "336d136e",
   "metadata": {},
   "outputs": [],
   "source": [
    "print(a-b)"
   ]
  },
  {
   "cell_type": "markdown",
   "id": "acdc758f",
   "metadata": {},
   "source": [
    "Multiplication"
   ]
  },
  {
   "cell_type": "code",
   "execution_count": null,
   "id": "044fc4ab",
   "metadata": {},
   "outputs": [],
   "source": [
    "print(a*b)"
   ]
  },
  {
   "cell_type": "markdown",
   "id": "cfcb3112",
   "metadata": {},
   "source": [
    "Equating"
   ]
  },
  {
   "cell_type": "code",
   "execution_count": null,
   "id": "dc7414ad",
   "metadata": {},
   "outputs": [],
   "source": [
    "print(a == b)"
   ]
  },
  {
   "cell_type": "code",
   "execution_count": null,
   "id": "f9e9eee3",
   "metadata": {},
   "outputs": [],
   "source": [
    "import numpy as np\n",
    "\n",
    "class CustomComple(complex):\n",
    "    def __lt__(self, other):\n",
    "        return np.abs(self) < np.abs(other)\n",
    "    def __le__(self, other):\n",
    "        return np.abs(self) <= np.abs(other)\n",
    "    def __eq__(self, other):\n",
    "        return np.abs(self) == np.abs(other)\n",
    "    def __ne__(self, other):\n",
    "        return np.abs(self) != np.abs(other)\n",
    "    def __gt__(self, other):\n",
    "        return np.abs(self) > np.abs(other)\n",
    "    def __ge__(self, other):\n",
    "        return np.abs(self) >= np.abs(other)"
   ]
  },
  {
   "cell_type": "code",
   "execution_count": null,
   "id": "2f8c520d",
   "metadata": {},
   "outputs": [],
   "source": [
    "a=CustomComplex(3,5j)"
   ]
  },
  {
   "cell_type": "code",
   "execution_count": null,
   "id": "2acd9ce8",
   "metadata": {},
   "outputs": [],
   "source": [
    "b=CustomComplex(1,4j)"
   ]
  },
  {
   "cell_type": "markdown",
   "id": "c25afe62",
   "metadata": {},
   "source": [
    "Complex number comparision"
   ]
  },
  {
   "cell_type": "code",
   "execution_count": null,
   "id": "0cf620b8",
   "metadata": {},
   "outputs": [],
   "source": [
    "a<b"
   ]
  },
  {
   "cell_type": "code",
   "execution_count": null,
   "id": "86555793",
   "metadata": {},
   "outputs": [],
   "source": [
    "a>b"
   ]
  },
  {
   "cell_type": "code",
   "execution_count": null,
   "id": "69ad0b9b",
   "metadata": {},
   "outputs": [],
   "source": [
    "a==b"
   ]
  }
 ],
 "metadata": {
  "kernelspec": {
   "display_name": "Python 3 (ipykernel)",
   "language": "python",
   "name": "python3"
  },
  "language_info": {
   "codemirror_mode": {
    "name": "ipython",
    "version": 3
   },
   "file_extension": ".py",
   "mimetype": "text/x-python",
   "name": "python",
   "nbconvert_exporter": "python",
   "pygments_lexer": "ipython3",
   "version": "3.8.5"
  }
 },
 "nbformat": 4,
 "nbformat_minor": 5
}
